{
  "nbformat": 4,
  "nbformat_minor": 0,
  "metadata": {
    "kernelspec": {
      "display_name": "Python 3",
      "language": "python",
      "name": "python3"
    },
    "language_info": {
      "codemirror_mode": {
        "name": "ipython",
        "version": 3
      },
      "file_extension": ".py",
      "mimetype": "text/x-python",
      "name": "python",
      "nbconvert_exporter": "python",
      "pygments_lexer": "ipython3",
      "version": "3.7.3"
    },
    "colab": {
      "name": "May_10_Model.ipynb",
      "provenance": [],
      "collapsed_sections": [],
      "machine_shape": "hm"
    }
  },
  "cells": [
    {
      "cell_type": "code",
      "metadata": {
        "id": "bETLjQacqHYO",
        "colab_type": "code",
        "colab": {}
      },
      "source": [
        "import pandas as pd\n",
        "import numpy as np\n",
        "from sklearn import preprocessing"
      ],
      "execution_count": 0,
      "outputs": []
    },
    {
      "cell_type": "code",
      "metadata": {
        "id": "fbJV2K66rRE1",
        "colab_type": "code",
        "outputId": "ee620898-db33-4917-90e3-22e8b492d80c",
        "colab": {
          "base_uri": "https://localhost:8080/",
          "height": 122
        }
      },
      "source": [
        "from google.colab import drive\n",
        "drive.mount('/content/drive')"
      ],
      "execution_count": 2,
      "outputs": [
        {
          "output_type": "stream",
          "text": [
            "Go to this URL in a browser: https://accounts.google.com/o/oauth2/auth?client_id=947318989803-6bn6qk8qdgf4n4g3pfee6491hc0brc4i.apps.googleusercontent.com&redirect_uri=urn%3aietf%3awg%3aoauth%3a2.0%3aoob&response_type=code&scope=email%20https%3a%2f%2fwww.googleapis.com%2fauth%2fdocs.test%20https%3a%2f%2fwww.googleapis.com%2fauth%2fdrive%20https%3a%2f%2fwww.googleapis.com%2fauth%2fdrive.photos.readonly%20https%3a%2f%2fwww.googleapis.com%2fauth%2fpeopleapi.readonly\n",
            "\n",
            "Enter your authorization code:\n",
            "··········\n",
            "Mounted at /content/drive\n"
          ],
          "name": "stdout"
        }
      ]
    },
    {
      "cell_type": "code",
      "metadata": {
        "id": "_iG2Xs2QqHYR",
        "colab_type": "code",
        "colab": {}
      },
      "source": [
        "gsr=pd.read_csv('/content/drive/My Drive/Colab Notebooks/Training_Data.csv')"
      ],
      "execution_count": 0,
      "outputs": []
    },
    {
      "cell_type": "markdown",
      "metadata": {
        "id": "rJaVACYqjQv8",
        "colab_type": "text"
      },
      "source": [
        ""
      ]
    },
    {
      "cell_type": "code",
      "metadata": {
        "id": "wm8xKk5_O5iO",
        "colab_type": "code",
        "colab": {}
      },
      "source": [
        "gsr_val=pd.read_csv('/content/drive/My Drive/Colab Notebooks/Test_May_10.csv')"
      ],
      "execution_count": 0,
      "outputs": []
    },
    {
      "cell_type": "markdown",
      "metadata": {
        "id": "QRjESieuqHYU",
        "colab_type": "raw"
      },
      "source": [
        "gsr.head(5)"
      ]
    },
    {
      "cell_type": "code",
      "metadata": {
        "id": "I2jv2uY8qHYV",
        "colab_type": "code",
        "outputId": "c3089c1d-cf67-422b-88e2-5253ee2d82a9",
        "colab": {
          "base_uri": "https://localhost:8080/",
          "height": 34
        }
      },
      "source": [
        "gsr.shape"
      ],
      "execution_count": 0,
      "outputs": [
        {
          "output_type": "execute_result",
          "data": {
            "text/plain": [
              "(20000, 135)"
            ]
          },
          "metadata": {
            "tags": []
          },
          "execution_count": 5
        }
      ]
    },
    {
      "cell_type": "code",
      "metadata": {
        "id": "C_qr4bP-Sbpl",
        "colab_type": "code",
        "colab": {}
      },
      "source": [
        "gsr=gsr.apply(lambda x: x.fillna(x.mean()))"
      ],
      "execution_count": 0,
      "outputs": []
    },
    {
      "cell_type": "code",
      "metadata": {
        "id": "hvWQHUEfSe4V",
        "colab_type": "code",
        "colab": {}
      },
      "source": [
        "gsr_val=gsr_val.apply(lambda x: x.fillna(x.mean())) "
      ],
      "execution_count": 0,
      "outputs": []
    },
    {
      "cell_type": "code",
      "metadata": {
        "id": "o6JiciA_PBCT",
        "colab_type": "code",
        "outputId": "3aade589-a944-4f3c-fadc-80cbf116e695",
        "colab": {
          "base_uri": "https://localhost:8080/",
          "height": 34
        }
      },
      "source": [
        "gsr_val.shape"
      ],
      "execution_count": 5,
      "outputs": [
        {
          "output_type": "execute_result",
          "data": {
            "text/plain": [
              "(5000, 137)"
            ]
          },
          "metadata": {
            "tags": []
          },
          "execution_count": 5
        }
      ]
    },
    {
      "cell_type": "code",
      "metadata": {
        "id": "2Oj76gjSjVQ2",
        "colab_type": "code",
        "colab": {}
      },
      "source": [
        "x_val1=gsr_val[['5yrs_sharpe_ratio_fund','10yrs_sharpe_ratio_fund','3yrs_sharpe_ratio_fund','fund_return_3years','3_years_alpha_fund','5_years_return_fund','5_years_alpha_fund','5_years_return_mean_annual_fund','10_years_alpha_fund','3_years_return_mean_annual_fund','10_years_return_fund','10_years_return_mean_annual_fund','1_year_return_fund','2015_return_fund','2014_return_fund','2010_return_fund','2012_fund_return','2018_return_fund','2011_return_fund','2017_return_fund','years_up','10yrs_sharpe_ratio_category','1_month_fund_return','fund_return_3months','return_ytd','ytd_return_fund','total_assets','2016_return_fund','investment_class_Growth','2010_return_category','maturity_bond','yield','ID-20 and older','portfolio_tech_allocation','mmc','ID-10 to 15','5yrs_sharpe_ratio_category','ID-0 to 5 years','5years_fund_std','3years_fund_std','10years_fund_std','2012_return_category','10_years_return_category','fund_beta_3years','ID-5 to 10','a_rating','pb_ratio','2013_return_fund','2014_category_return','ytd_return_category','3_months_return_category','category_return_1year','category_return_1month','2017_category_return','2016_return_category']]"
      ],
      "execution_count": 0,
      "outputs": []
    },
    {
      "cell_type": "code",
      "metadata": {
        "id": "8SlZdSqGQMQr",
        "colab_type": "code",
        "outputId": "7b2016a8-f93e-4fbb-f813-ccf6ed8790f7",
        "colab": {
          "base_uri": "https://localhost:8080/",
          "height": 88
        }
      },
      "source": [
        "print(x_val1.shape)\n",
        "x_val1_scaled = preprocessing.scale(x_val1)"
      ],
      "execution_count": 7,
      "outputs": [
        {
          "output_type": "stream",
          "text": [
            "(5000, 55)\n"
          ],
          "name": "stdout"
        },
        {
          "output_type": "stream",
          "text": [
            "/usr/local/lib/python3.6/dist-packages/sklearn/preprocessing/_data.py:173: UserWarning: Numerical issues were encountered when centering the data and might not be solved. Dataset may contain too large values. You may need to prescale your features.\n",
            "  warnings.warn(\"Numerical issues were encountered \"\n"
          ],
          "name": "stderr"
        }
      ]
    },
    {
      "cell_type": "code",
      "metadata": {
        "id": "AORU1meqgDwv",
        "colab_type": "code",
        "colab": {}
      },
      "source": [
        "x1=gsr[['5yrs_sharpe_ratio_fund','10yrs_sharpe_ratio_fund','3yrs_sharpe_ratio_fund','fund_return_3years','3_years_alpha_fund','5_years_return_fund','5_years_alpha_fund','5_years_return_mean_annual_fund','10_years_alpha_fund','3_years_return_mean_annual_fund','10_years_return_fund','10_years_return_mean_annual_fund','1_year_return_fund','2015_return_fund','2014_return_fund','2010_return_fund','2012_fund_return','2018_return_fund','2011_return_fund','2017_return_fund','years_up','10yrs_sharpe_ratio_category','1_month_fund_return','fund_return_3months','return_ytd','ytd_return_fund','total_assets','2016_return_fund','investment_class_Growth','2010_return_category','maturity_bond','yield','ID-20 and older','portfolio_tech_allocation','mmc','ID-10 to 15','5yrs_sharpe_ratio_category','ID-0 to 5 years','5years_fund_std','3years_fund_std','10years_fund_std','2012_return_category','10_years_return_category','fund_beta_3years','ID-5 to 10','a_rating','pb_ratio','2013_return_fund','2014_category_return','ytd_return_category','3_months_return_category','category_return_1year','category_return_1month','2017_category_return','2016_return_category']]"
      ],
      "execution_count": 0,
      "outputs": []
    },
    {
      "cell_type": "code",
      "metadata": {
        "id": "P6Y2wESIQk0A",
        "colab_type": "code",
        "outputId": "2fdaaf76-2fbb-4304-9949-34ff4d1f309e",
        "colab": {
          "base_uri": "https://localhost:8080/",
          "height": 88
        }
      },
      "source": [
        "print(x1.shape)\n",
        "x1_scaled = preprocessing.scale(x1)"
      ],
      "execution_count": 0,
      "outputs": [
        {
          "output_type": "stream",
          "text": [
            "(20000, 55)\n"
          ],
          "name": "stdout"
        },
        {
          "output_type": "stream",
          "text": [
            "/usr/local/lib/python3.6/dist-packages/sklearn/preprocessing/_data.py:173: UserWarning: Numerical issues were encountered when centering the data and might not be solved. Dataset may contain too large values. You may need to prescale your features.\n",
            "  warnings.warn(\"Numerical issues were encountered \"\n"
          ],
          "name": "stderr"
        }
      ]
    },
    {
      "cell_type": "code",
      "metadata": {
        "id": "Kc078oXcQovg",
        "colab_type": "code",
        "colab": {}
      },
      "source": [
        "y=gsr[['greatstone_rating_0','greatstone_rating_1','greatstone_rating_2','greatstone_rating_3','greatstone_rating_4','greatstone_rating_5']]"
      ],
      "execution_count": 0,
      "outputs": []
    },
    {
      "cell_type": "code",
      "metadata": {
        "id": "UUWmhI_7L1i0",
        "colab_type": "code",
        "colab": {}
      },
      "source": [
        "y_all=gsr['greatstone_rating']"
      ],
      "execution_count": 0,
      "outputs": []
    },
    {
      "cell_type": "code",
      "metadata": {
        "id": "iEZuIy8fqHYw",
        "colab_type": "code",
        "colab": {}
      },
      "source": [
        "from sklearn.model_selection import train_test_split\n",
        "from sklearn.preprocessing import StandardScaler\n",
        "from sklearn.metrics import confusion_matrix"
      ],
      "execution_count": 0,
      "outputs": []
    },
    {
      "cell_type": "code",
      "metadata": {
        "id": "0IbMfEd_qHYy",
        "colab_type": "code",
        "colab": {}
      },
      "source": [
        "from sklearn.ensemble import RandomForestClassifier\n",
        "from sklearn import metrics\n",
        "from sklearn.metrics import f1_score,classification_report, confusion_matrix,accuracy_score\n",
        "clf=RandomForestClassifier( n_jobs=9999,n_estimators=9999,criterion=\"entropy\",random_state=999)\n",
        "#clf3=RandomForestClassifier( n_jobs=9999,n_estimators=9999,criterion=\"entropy\",random_state=999)"
      ],
      "execution_count": 0,
      "outputs": []
    },
    {
      "cell_type": "code",
      "metadata": {
        "id": "zhVpTTjThbqt",
        "colab_type": "code",
        "outputId": "c416e078-d119-4ade-97b5-748d20c388cd",
        "colab": {
          "base_uri": "https://localhost:8080/",
          "height": 153
        }
      },
      "source": [
        "clf.fit(x1, y)"
      ],
      "execution_count": 0,
      "outputs": [
        {
          "output_type": "execute_result",
          "data": {
            "text/plain": [
              "RandomForestClassifier(bootstrap=True, ccp_alpha=0.0, class_weight=None,\n",
              "                       criterion='entropy', max_depth=None, max_features='auto',\n",
              "                       max_leaf_nodes=None, max_samples=None,\n",
              "                       min_impurity_decrease=0.0, min_impurity_split=None,\n",
              "                       min_samples_leaf=1, min_samples_split=2,\n",
              "                       min_weight_fraction_leaf=0.0, n_estimators=9999,\n",
              "                       n_jobs=9999, oob_score=False, random_state=999,\n",
              "                       verbose=0, warm_start=False)"
            ]
          },
          "metadata": {
            "tags": []
          },
          "execution_count": 20
        }
      ]
    },
    {
      "cell_type": "code",
      "metadata": {
        "id": "8V1sMfbXjht6",
        "colab_type": "code",
        "colab": {}
      },
      "source": [
        "y_predict_val1 = clf.predict(x_val1)"
      ],
      "execution_count": 0,
      "outputs": []
    },
    {
      "cell_type": "code",
      "metadata": {
        "id": "0BB4kYpxjhyT",
        "colab_type": "code",
        "colab": {}
      },
      "source": [
        "y_predict_val_exp1=pd.DataFrame(y_predict_val1)"
      ],
      "execution_count": 0,
      "outputs": []
    },
    {
      "cell_type": "code",
      "metadata": {
        "id": "I9-6QsRgkLlE",
        "colab_type": "code",
        "colab": {}
      },
      "source": [
        "y_predict_val_exp1.to_excel('/content/drive/My Drive/Colab Notebooks/y_predict_Rating_1st_Run.xlsx')"
      ],
      "execution_count": 0,
      "outputs": []
    },
    {
      "cell_type": "code",
      "metadata": {
        "id": "CToEg_uWmdHS",
        "colab_type": "code",
        "colab": {}
      },
      "source": [
        "gsr1=pd.read_csv('/content/drive/My Drive/Colab Notebooks/Training_Data_1.csv')"
      ],
      "execution_count": 0,
      "outputs": []
    },
    {
      "cell_type": "code",
      "metadata": {
        "id": "7vonayTnoJf6",
        "colab_type": "code",
        "outputId": "0d477c22-7d17-4029-f347-5927aac2fde2",
        "colab": {
          "base_uri": "https://localhost:8080/",
          "height": 34
        }
      },
      "source": [
        "gsr1.shape"
      ],
      "execution_count": 0,
      "outputs": [
        {
          "output_type": "execute_result",
          "data": {
            "text/plain": [
              "(24045, 135)"
            ]
          },
          "metadata": {
            "tags": []
          },
          "execution_count": 67
        }
      ]
    },
    {
      "cell_type": "code",
      "metadata": {
        "id": "Aavo3FwUmdQu",
        "colab_type": "code",
        "colab": {}
      },
      "source": [
        "gsr1=gsr1.apply(lambda x: x.fillna(x.mean()))"
      ],
      "execution_count": 0,
      "outputs": []
    },
    {
      "cell_type": "code",
      "metadata": {
        "id": "IsMUEv1fmdUy",
        "colab_type": "code",
        "colab": {}
      },
      "source": [
        "x2=gsr1[['5yrs_sharpe_ratio_fund','10yrs_sharpe_ratio_fund','3yrs_sharpe_ratio_fund','fund_return_3years','3_years_alpha_fund','5_years_return_fund','5_years_alpha_fund','5_years_return_mean_annual_fund','10_years_alpha_fund','3_years_return_mean_annual_fund','10_years_return_fund','10_years_return_mean_annual_fund','1_year_return_fund','2015_return_fund','2014_return_fund','2010_return_fund','2012_fund_return','2018_return_fund','2011_return_fund','2017_return_fund','years_up','10yrs_sharpe_ratio_category','1_month_fund_return','fund_return_3months','return_ytd','ytd_return_fund','total_assets','2016_return_fund','investment_class_Growth','2010_return_category','maturity_bond','yield','ID-20 and older','portfolio_tech_allocation','mmc','ID-10 to 15','5yrs_sharpe_ratio_category','ID-0 to 5 years','5years_fund_std','3years_fund_std','10years_fund_std','2012_return_category','10_years_return_category','fund_beta_3years','ID-5 to 10','a_rating','pb_ratio','2013_return_fund','2014_category_return','ytd_return_category','3_months_return_category','category_return_1year','category_return_1month','2017_category_return','2016_return_category']]"
      ],
      "execution_count": 0,
      "outputs": []
    },
    {
      "cell_type": "code",
      "metadata": {
        "id": "6wbPoxh-oab0",
        "colab_type": "code",
        "outputId": "1fd0ecb0-7d66-4b62-c363-58079738c012",
        "colab": {
          "base_uri": "https://localhost:8080/",
          "height": 34
        }
      },
      "source": [
        "x2.shape"
      ],
      "execution_count": 0,
      "outputs": [
        {
          "output_type": "execute_result",
          "data": {
            "text/plain": [
              "(24045, 55)"
            ]
          },
          "metadata": {
            "tags": []
          },
          "execution_count": 70
        }
      ]
    },
    {
      "cell_type": "code",
      "metadata": {
        "id": "fp_LJrvAohdA",
        "colab_type": "code",
        "colab": {}
      },
      "source": [
        "y1=gsr1[['greatstone_rating_0','greatstone_rating_1','greatstone_rating_2','greatstone_rating_3','greatstone_rating_4','greatstone_rating_5']]"
      ],
      "execution_count": 0,
      "outputs": []
    },
    {
      "cell_type": "code",
      "metadata": {
        "id": "c0lxDJiNotA8",
        "colab_type": "code",
        "colab": {}
      },
      "source": [
        "y1_all=gsr1['greatstone_rating']"
      ],
      "execution_count": 0,
      "outputs": []
    },
    {
      "cell_type": "code",
      "metadata": {
        "id": "LbKtTVy6PqAg",
        "colab_type": "code",
        "outputId": "26ee30ed-1d5b-4a64-9b3e-474970cd6b14",
        "colab": {
          "base_uri": "https://localhost:8080/",
          "height": 153
        }
      },
      "source": [
        "clf.fit(x2, y1)"
      ],
      "execution_count": 0,
      "outputs": [
        {
          "output_type": "execute_result",
          "data": {
            "text/plain": [
              "RandomForestClassifier(bootstrap=True, ccp_alpha=0.0, class_weight=None,\n",
              "                       criterion='entropy', max_depth=None, max_features='auto',\n",
              "                       max_leaf_nodes=None, max_samples=None,\n",
              "                       min_impurity_decrease=0.0, min_impurity_split=None,\n",
              "                       min_samples_leaf=1, min_samples_split=2,\n",
              "                       min_weight_fraction_leaf=0.0, n_estimators=9999,\n",
              "                       n_jobs=9999, oob_score=False, random_state=999,\n",
              "                       verbose=0, warm_start=False)"
            ]
          },
          "metadata": {
            "tags": []
          },
          "execution_count": 73
        }
      ]
    },
    {
      "cell_type": "code",
      "metadata": {
        "id": "Dg05OaLSPqFN",
        "colab_type": "code",
        "colab": {}
      },
      "source": [
        "y_predict_val2 = clf.predict(x_val1)"
      ],
      "execution_count": 0,
      "outputs": []
    },
    {
      "cell_type": "code",
      "metadata": {
        "id": "z-tRvoM3PqJn",
        "colab_type": "code",
        "colab": {}
      },
      "source": [
        "y_predict_val_exp2=pd.DataFrame(y_predict_val2)"
      ],
      "execution_count": 0,
      "outputs": []
    },
    {
      "cell_type": "code",
      "metadata": {
        "id": "TrXboX-pPqO-",
        "colab_type": "code",
        "colab": {}
      },
      "source": [
        "y_predict_val_exp2.to_excel('/content/drive/My Drive/Colab Notebooks/y_predict_Rating_2nd_Run.xlsx')"
      ],
      "execution_count": 0,
      "outputs": []
    },
    {
      "cell_type": "code",
      "metadata": {
        "id": "Hfx8EQNyxHvk",
        "colab_type": "code",
        "colab": {}
      },
      "source": [
        "gsr2=pd.read_csv('/content/drive/My Drive/Colab Notebooks/Training_Data_2.csv')"
      ],
      "execution_count": 0,
      "outputs": []
    },
    {
      "cell_type": "code",
      "metadata": {
        "id": "wYV6LGwoxH4k",
        "colab_type": "code",
        "outputId": "e0bb7d11-bb41-44cb-a636-724d996a8f50",
        "colab": {
          "base_uri": "https://localhost:8080/",
          "height": 34
        }
      },
      "source": [
        "gsr2.shape"
      ],
      "execution_count": 10,
      "outputs": [
        {
          "output_type": "execute_result",
          "data": {
            "text/plain": [
              "(24177, 135)"
            ]
          },
          "metadata": {
            "tags": []
          },
          "execution_count": 10
        }
      ]
    },
    {
      "cell_type": "code",
      "metadata": {
        "id": "SpP6FKrCxIIG",
        "colab_type": "code",
        "colab": {}
      },
      "source": [
        "gsr2=gsr2.apply(lambda x: x.fillna(x.mean()))"
      ],
      "execution_count": 0,
      "outputs": []
    },
    {
      "cell_type": "code",
      "metadata": {
        "id": "etgeCk5BxIN7",
        "colab_type": "code",
        "colab": {}
      },
      "source": [
        "x3=gsr2[['5yrs_sharpe_ratio_fund','10yrs_sharpe_ratio_fund','3yrs_sharpe_ratio_fund','fund_return_3years','3_years_alpha_fund','5_years_return_fund','5_years_alpha_fund','5_years_return_mean_annual_fund','10_years_alpha_fund','3_years_return_mean_annual_fund','10_years_return_fund','10_years_return_mean_annual_fund','1_year_return_fund','2015_return_fund','2014_return_fund','2010_return_fund','2012_fund_return','2018_return_fund','2011_return_fund','2017_return_fund','years_up','10yrs_sharpe_ratio_category','1_month_fund_return','fund_return_3months','return_ytd','ytd_return_fund','total_assets','2016_return_fund','investment_class_Growth','2010_return_category','maturity_bond','yield','ID-20 and older','portfolio_tech_allocation','mmc','ID-10 to 15','5yrs_sharpe_ratio_category','ID-0 to 5 years','5years_fund_std','3years_fund_std','10years_fund_std','2012_return_category','10_years_return_category','fund_beta_3years','ID-5 to 10','a_rating','pb_ratio','2013_return_fund','2014_category_return','ytd_return_category','3_months_return_category','category_return_1year','category_return_1month','2017_category_return','2016_return_category']]"
      ],
      "execution_count": 0,
      "outputs": []
    },
    {
      "cell_type": "code",
      "metadata": {
        "id": "8mfMokHYxIT4",
        "colab_type": "code",
        "outputId": "ed395a6d-ade2-461a-b732-1c029ca04abd",
        "colab": {
          "base_uri": "https://localhost:8080/",
          "height": 34
        }
      },
      "source": [
        "x3.shape"
      ],
      "execution_count": 13,
      "outputs": [
        {
          "output_type": "execute_result",
          "data": {
            "text/plain": [
              "(24177, 55)"
            ]
          },
          "metadata": {
            "tags": []
          },
          "execution_count": 13
        }
      ]
    },
    {
      "cell_type": "code",
      "metadata": {
        "id": "PqbqyGHexIaU",
        "colab_type": "code",
        "colab": {}
      },
      "source": [
        "y2=gsr2[['greatstone_rating_0','greatstone_rating_1','greatstone_rating_2','greatstone_rating_3','greatstone_rating_4','greatstone_rating_5']]"
      ],
      "execution_count": 0,
      "outputs": []
    },
    {
      "cell_type": "code",
      "metadata": {
        "id": "iPWJzZlkxIYH",
        "colab_type": "code",
        "colab": {}
      },
      "source": [
        "y2_all=gsr2['greatstone_rating']"
      ],
      "execution_count": 0,
      "outputs": []
    },
    {
      "cell_type": "code",
      "metadata": {
        "id": "k9s9g4J-xIRr",
        "colab_type": "code",
        "outputId": "f64be3d9-7be7-4fd7-c663-62caa29fa0df",
        "colab": {
          "base_uri": "https://localhost:8080/",
          "height": 153
        }
      },
      "source": [
        "clf.fit(x3, y2)"
      ],
      "execution_count": 19,
      "outputs": [
        {
          "output_type": "execute_result",
          "data": {
            "text/plain": [
              "RandomForestClassifier(bootstrap=True, ccp_alpha=0.0, class_weight=None,\n",
              "                       criterion='entropy', max_depth=None, max_features='auto',\n",
              "                       max_leaf_nodes=None, max_samples=None,\n",
              "                       min_impurity_decrease=0.0, min_impurity_split=None,\n",
              "                       min_samples_leaf=1, min_samples_split=2,\n",
              "                       min_weight_fraction_leaf=0.0, n_estimators=9999,\n",
              "                       n_jobs=9999, oob_score=False, random_state=999,\n",
              "                       verbose=0, warm_start=False)"
            ]
          },
          "metadata": {
            "tags": []
          },
          "execution_count": 19
        }
      ]
    },
    {
      "cell_type": "code",
      "metadata": {
        "id": "O6xYchtLxIMB",
        "colab_type": "code",
        "colab": {}
      },
      "source": [
        "y_predict_val3 = clf.predict(x_val1)"
      ],
      "execution_count": 0,
      "outputs": []
    },
    {
      "cell_type": "code",
      "metadata": {
        "id": "1Ns4CbZjxIFA",
        "colab_type": "code",
        "colab": {}
      },
      "source": [
        "y_predict_val_exp3=pd.DataFrame(y_predict_val3)"
      ],
      "execution_count": 0,
      "outputs": []
    },
    {
      "cell_type": "code",
      "metadata": {
        "id": "reavcuXjxICT",
        "colab_type": "code",
        "colab": {}
      },
      "source": [
        "y_predict_val_exp3.to_excel('/content/drive/My Drive/Colab Notebooks/y_predict_Rating_3rd_Run.xlsx')"
      ],
      "execution_count": 0,
      "outputs": []
    },
    {
      "cell_type": "code",
      "metadata": {
        "id": "59GIjN8uxHzo",
        "colab_type": "code",
        "colab": {}
      },
      "source": [
        "gsr3=pd.read_csv('/content/drive/My Drive/Colab Notebooks/Training_Data_97.csv')"
      ],
      "execution_count": 0,
      "outputs": []
    },
    {
      "cell_type": "code",
      "metadata": {
        "id": "ZdADDnk7Uqwj",
        "colab_type": "code",
        "colab": {
          "base_uri": "https://localhost:8080/",
          "height": 34
        },
        "outputId": "1663e513-f443-4bc0-9494-ba6a423997d6"
      },
      "source": [
        "gsr3.shape"
      ],
      "execution_count": 40,
      "outputs": [
        {
          "output_type": "execute_result",
          "data": {
            "text/plain": [
              "(24979, 135)"
            ]
          },
          "metadata": {
            "tags": []
          },
          "execution_count": 40
        }
      ]
    },
    {
      "cell_type": "code",
      "metadata": {
        "id": "TYuHMqoSUq2d",
        "colab_type": "code",
        "colab": {}
      },
      "source": [
        "gsr3=gsr3.apply(lambda x: x.fillna(x.mean()))"
      ],
      "execution_count": 0,
      "outputs": []
    },
    {
      "cell_type": "code",
      "metadata": {
        "id": "eo0GJCgpUq-X",
        "colab_type": "code",
        "colab": {}
      },
      "source": [
        "x4=gsr3[['5yrs_sharpe_ratio_fund','10yrs_sharpe_ratio_fund','3yrs_sharpe_ratio_fund','fund_return_3years','3_years_alpha_fund','5_years_return_fund','5_years_alpha_fund','5_years_return_mean_annual_fund','10_years_alpha_fund','3_years_return_mean_annual_fund','10_years_return_fund','10_years_return_mean_annual_fund','1_year_return_fund','2015_return_fund','2014_return_fund','2010_return_fund','2012_fund_return','2018_return_fund','2011_return_fund','2017_return_fund','years_up','10yrs_sharpe_ratio_category','1_month_fund_return','fund_return_3months','return_ytd','ytd_return_fund','total_assets','2016_return_fund','investment_class_Growth','2010_return_category','maturity_bond','yield','ID-20 and older','portfolio_tech_allocation','mmc','ID-10 to 15','5yrs_sharpe_ratio_category','ID-0 to 5 years','5years_fund_std','3years_fund_std','10years_fund_std','2012_return_category','10_years_return_category','fund_beta_3years','ID-5 to 10','a_rating','pb_ratio','2013_return_fund','2014_category_return','ytd_return_category','3_months_return_category','category_return_1year','category_return_1month','2017_category_return','2016_return_category']]"
      ],
      "execution_count": 0,
      "outputs": []
    },
    {
      "cell_type": "code",
      "metadata": {
        "id": "Ii_xUXM_UrGP",
        "colab_type": "code",
        "colab": {
          "base_uri": "https://localhost:8080/",
          "height": 34
        },
        "outputId": "4c28a883-5f0e-468d-cb23-6ef5be56cf77"
      },
      "source": [
        "x4.shape"
      ],
      "execution_count": 43,
      "outputs": [
        {
          "output_type": "execute_result",
          "data": {
            "text/plain": [
              "(24979, 55)"
            ]
          },
          "metadata": {
            "tags": []
          },
          "execution_count": 43
        }
      ]
    },
    {
      "cell_type": "code",
      "metadata": {
        "id": "F6bfu9R_UrMM",
        "colab_type": "code",
        "colab": {}
      },
      "source": [
        "y3=gsr3[['greatstone_rating_0','greatstone_rating_1','greatstone_rating_2','greatstone_rating_3','greatstone_rating_4','greatstone_rating_5']]"
      ],
      "execution_count": 0,
      "outputs": []
    },
    {
      "cell_type": "code",
      "metadata": {
        "id": "rdkNd8BqUrKO",
        "colab_type": "code",
        "colab": {}
      },
      "source": [
        "y3_all=gsr3['greatstone_rating']"
      ],
      "execution_count": 0,
      "outputs": []
    },
    {
      "cell_type": "code",
      "metadata": {
        "id": "Kl0pnB9qUrE6",
        "colab_type": "code",
        "colab": {
          "base_uri": "https://localhost:8080/",
          "height": 153
        },
        "outputId": "a6920c54-db7d-438e-a4e2-1823ecc9cb20"
      },
      "source": [
        "clf.fit(x4, y3)"
      ],
      "execution_count": 46,
      "outputs": [
        {
          "output_type": "execute_result",
          "data": {
            "text/plain": [
              "RandomForestClassifier(bootstrap=True, ccp_alpha=0.0, class_weight=None,\n",
              "                       criterion='entropy', max_depth=None, max_features='auto',\n",
              "                       max_leaf_nodes=None, max_samples=None,\n",
              "                       min_impurity_decrease=0.0, min_impurity_split=None,\n",
              "                       min_samples_leaf=1, min_samples_split=2,\n",
              "                       min_weight_fraction_leaf=0.0, n_estimators=9999,\n",
              "                       n_jobs=9999, oob_score=False, random_state=999,\n",
              "                       verbose=0, warm_start=False)"
            ]
          },
          "metadata": {
            "tags": []
          },
          "execution_count": 46
        }
      ]
    },
    {
      "cell_type": "code",
      "metadata": {
        "id": "1gFcJJCpUrCg",
        "colab_type": "code",
        "colab": {}
      },
      "source": [
        "y_predict_val3 = clf.predict(x_val1)"
      ],
      "execution_count": 0,
      "outputs": []
    },
    {
      "cell_type": "code",
      "metadata": {
        "id": "xplqTVc1Uq8I",
        "colab_type": "code",
        "colab": {}
      },
      "source": [
        "y_predict_val_exp3=pd.DataFrame(y_predict_val3)"
      ],
      "execution_count": 0,
      "outputs": []
    },
    {
      "cell_type": "code",
      "metadata": {
        "id": "NwB610ArUq6E",
        "colab_type": "code",
        "colab": {}
      },
      "source": [
        "y_predict_val_exp3.to_excel('/content/drive/My Drive/Colab Notebooks/y_predict_Rating_97.xlsx')"
      ],
      "execution_count": 0,
      "outputs": []
    },
    {
      "cell_type": "code",
      "metadata": {
        "id": "M5WPynxH2jFV",
        "colab_type": "code",
        "colab": {
          "base_uri": "https://localhost:8080/",
          "height": 153
        },
        "outputId": "b10f2ee6-9a59-44cf-c341-d7c0401be6ba"
      },
      "source": [
        "clf.fit(x4, y3_all)"
      ],
      "execution_count": 50,
      "outputs": [
        {
          "output_type": "execute_result",
          "data": {
            "text/plain": [
              "RandomForestClassifier(bootstrap=True, ccp_alpha=0.0, class_weight=None,\n",
              "                       criterion='entropy', max_depth=None, max_features='auto',\n",
              "                       max_leaf_nodes=None, max_samples=None,\n",
              "                       min_impurity_decrease=0.0, min_impurity_split=None,\n",
              "                       min_samples_leaf=1, min_samples_split=2,\n",
              "                       min_weight_fraction_leaf=0.0, n_estimators=9999,\n",
              "                       n_jobs=9999, oob_score=False, random_state=999,\n",
              "                       verbose=0, warm_start=False)"
            ]
          },
          "metadata": {
            "tags": []
          },
          "execution_count": 50
        }
      ]
    },
    {
      "cell_type": "code",
      "metadata": {
        "id": "lfRzaBx82jNZ",
        "colab_type": "code",
        "colab": {}
      },
      "source": [
        "y_predict_val5 = clf.predict(x_val1)"
      ],
      "execution_count": 0,
      "outputs": []
    },
    {
      "cell_type": "code",
      "metadata": {
        "id": "ItSir05Z2jaq",
        "colab_type": "code",
        "colab": {}
      },
      "source": [
        "y_predict_val_exp5=pd.DataFrame(y_predict_val5)"
      ],
      "execution_count": 0,
      "outputs": []
    },
    {
      "cell_type": "code",
      "metadata": {
        "id": "-_D0pUn-2jgV",
        "colab_type": "code",
        "colab": {}
      },
      "source": [
        "y_predict_val_exp5.to_excel('/content/drive/My Drive/Colab Notebooks/y_predict_Rating_Final.xlsx')"
      ],
      "execution_count": 0,
      "outputs": []
    },
    {
      "cell_type": "code",
      "metadata": {
        "id": "-k_AZA8g3UBr",
        "colab_type": "code",
        "colab": {}
      },
      "source": [
        ""
      ],
      "execution_count": 0,
      "outputs": []
    },
    {
      "cell_type": "markdown",
      "metadata": {
        "id": "gNmMo2X63N-y",
        "colab_type": "text"
      },
      "source": [
        "Using Other models"
      ]
    },
    {
      "cell_type": "code",
      "metadata": {
        "id": "EwtIqcw0We_D",
        "colab_type": "code",
        "colab": {}
      },
      "source": [
        "from sklearn.linear_model import LogisticRegression"
      ],
      "execution_count": 0,
      "outputs": []
    },
    {
      "cell_type": "code",
      "metadata": {
        "id": "9DqC3Fq-FOH2",
        "colab_type": "code",
        "colab": {}
      },
      "source": [
        "LR = LogisticRegression(random_state=0, solver='lbfgs', multi_class='ovr')"
      ],
      "execution_count": 0,
      "outputs": []
    },
    {
      "cell_type": "code",
      "metadata": {
        "id": "kHWp08fVG0AC",
        "colab_type": "code",
        "colab": {}
      },
      "source": [
        "y0=gsr['greatstone_rating_0']"
      ],
      "execution_count": 0,
      "outputs": []
    },
    {
      "cell_type": "code",
      "metadata": {
        "id": "d4cUFUVvGB2p",
        "colab_type": "code",
        "outputId": "1f6cc038-6c92-45e3-9d38-e2fecd7b4ddc",
        "colab": {
          "base_uri": "https://localhost:8080/",
          "height": 221
        }
      },
      "source": [
        "LR.fit(x2,y0)"
      ],
      "execution_count": 0,
      "outputs": [
        {
          "output_type": "stream",
          "text": [
            "/usr/local/lib/python3.6/dist-packages/sklearn/linear_model/_logistic.py:940: ConvergenceWarning: lbfgs failed to converge (status=1):\n",
            "STOP: TOTAL NO. of ITERATIONS REACHED LIMIT.\n",
            "\n",
            "Increase the number of iterations (max_iter) or scale the data as shown in:\n",
            "    https://scikit-learn.org/stable/modules/preprocessing.html\n",
            "Please also refer to the documentation for alternative solver options:\n",
            "    https://scikit-learn.org/stable/modules/linear_model.html#logistic-regression\n",
            "  extra_warning_msg=_LOGISTIC_SOLVER_CONVERGENCE_MSG)\n"
          ],
          "name": "stderr"
        },
        {
          "output_type": "execute_result",
          "data": {
            "text/plain": [
              "LogisticRegression(C=1.0, class_weight=None, dual=False, fit_intercept=True,\n",
              "                   intercept_scaling=1, l1_ratio=None, max_iter=100,\n",
              "                   multi_class='ovr', n_jobs=None, penalty='l2', random_state=0,\n",
              "                   solver='lbfgs', tol=0.0001, verbose=0, warm_start=False)"
            ]
          },
          "metadata": {
            "tags": []
          },
          "execution_count": 33
        }
      ]
    },
    {
      "cell_type": "code",
      "metadata": {
        "id": "sGObEoZmG-y1",
        "colab_type": "code",
        "colab": {}
      },
      "source": [
        "y0_val=LR.predict(x_val)"
      ],
      "execution_count": 0,
      "outputs": []
    },
    {
      "cell_type": "code",
      "metadata": {
        "id": "QUz3hrjOWfEn",
        "colab_type": "code",
        "colab": {}
      },
      "source": [
        "y_predict_val_exp0=pd.DataFrame(y0_val)"
      ],
      "execution_count": 0,
      "outputs": []
    },
    {
      "cell_type": "code",
      "metadata": {
        "id": "2MhI30h7WfMb",
        "colab_type": "code",
        "colab": {}
      },
      "source": [
        "y_predict_val_exp0.to_excel('/content/drive/My Drive/Colab Notebooks/y_val_0.xlsx')"
      ],
      "execution_count": 0,
      "outputs": []
    },
    {
      "cell_type": "code",
      "metadata": {
        "id": "URy7xrv7qHY6",
        "colab_type": "code",
        "outputId": "23c45b20-3e4b-4be9-c186-05c2670d4e16",
        "colab": {
          "base_uri": "https://localhost:8080/",
          "height": 237
        }
      },
      "source": [
        "x_train_scaled = preprocessing.scale(x_train2)\n",
        "x_test_scaled = preprocessing.scale(x_test2)\n",
        "clf3.fit(x_train_scaled, y_train)\n",
        "y_predict = clf3.predict(x_test_scaled)\n",
        "#model_score = clf.score(x_test_scaled, y_test)\n",
        "print(metrics.confusion_matrix(y_test, y_predict))\n",
        "print(metrics.accuracy_score(y_test, y_predict))"
      ],
      "execution_count": 0,
      "outputs": [
        {
          "output_type": "stream",
          "text": [
            "/usr/local/lib/python3.6/dist-packages/sklearn/preprocessing/_data.py:173: UserWarning: Numerical issues were encountered when centering the data and might not be solved. Dataset may contain too large values. You may need to prescale your features.\n",
            "  warnings.warn(\"Numerical issues were encountered \"\n",
            "/usr/local/lib/python3.6/dist-packages/sklearn/preprocessing/_data.py:173: UserWarning: Numerical issues were encountered when centering the data and might not be solved. Dataset may contain too large values. You may need to prescale your features.\n",
            "  warnings.warn(\"Numerical issues were encountered \"\n"
          ],
          "name": "stderr"
        },
        {
          "output_type": "stream",
          "text": [
            "[[ 378    2    6    1    0    1]\n",
            " [   1  206  159   43    4    0]\n",
            " [   0   40  883  318   15    2]\n",
            " [   0    6  170 1663  196    8]\n",
            " [   2    0   28  376  966   56]\n",
            " [   0    0    4   42  142  282]]\n",
            "0.7296666666666667\n"
          ],
          "name": "stdout"
        }
      ]
    },
    {
      "cell_type": "code",
      "metadata": {
        "id": "_RietiL6qHY9",
        "colab_type": "code",
        "outputId": "0fa2adf6-2303-448c-fa59-26574a7a1242",
        "colab": {}
      },
      "source": [
        "x_train_scaled = preprocessing.scale(x_train)\n",
        "x_test_scaled = preprocessing.scale(x_test)\n",
        "clf.fit(x_train, y_train)\n",
        "y_predict = clf.predict(x_test)\n",
        "#model_score = clf.score(x_test_scaled, y_test)\n",
        "print(metrics.confusion_matrix(y_test, y_predict))\n",
        "print(metrics.accuracy_score(y_test, y_predict))"
      ],
      "execution_count": 0,
      "outputs": [
        {
          "output_type": "stream",
          "text": [
            "C:\\Users\\Faisal\\Anaconda3\\lib\\site-packages\\sklearn\\preprocessing\\data.py:172: UserWarning: Numerical issues were encountered when centering the data and might not be solved. Dataset may contain too large values. You may need to prescale your features.\n",
            "  warnings.warn(\"Numerical issues were encountered \"\n",
            "C:\\Users\\Faisal\\Anaconda3\\lib\\site-packages\\sklearn\\preprocessing\\data.py:172: UserWarning: Numerical issues were encountered when centering the data and might not be solved. Dataset may contain too large values. You may need to prescale your features.\n",
            "  warnings.warn(\"Numerical issues were encountered \"\n"
          ],
          "name": "stderr"
        },
        {
          "output_type": "stream",
          "text": [
            "[[ 384    0    2    1    0    1]\n",
            " [   1  266  140    6    0    0]\n",
            " [   0   44  975  229   10    0]\n",
            " [   1    1  132 1715  191    3]\n",
            " [   1    0    8  266 1084   69]\n",
            " [   0    0    1    8  122  339]]\n",
            "0.7938333333333333\n"
          ],
          "name": "stdout"
        }
      ]
    },
    {
      "cell_type": "code",
      "metadata": {
        "id": "b_pyuardRfAO",
        "colab_type": "code",
        "outputId": "3ef1b345-3299-4d56-900f-5a0db5084f17",
        "colab": {
          "base_uri": "https://localhost:8080/",
          "height": 222
        }
      },
      "source": [
        "x_train_scaled = preprocessing.scale(x_train2)\n",
        "x_test_scaled = preprocessing.scale(x_test2)\n",
        "clf.fit(x_train_scaled, y_train)\n",
        "y_predict = clf.predict(x_test_scaled)\n",
        "#model_score = clf.score(x_test_scaled, y_test)\n",
        "print(metrics.confusion_matrix(y_test, y_predict))\n",
        "print(metrics.accuracy_score(y_test, y_predict))"
      ],
      "execution_count": 0,
      "outputs": [
        {
          "output_type": "stream",
          "text": [
            "/usr/local/lib/python3.6/dist-packages/sklearn/preprocessing/_data.py:173: UserWarning: Numerical issues were encountered when centering the data and might not be solved. Dataset may contain too large values. You may need to prescale your features.\n",
            "  warnings.warn(\"Numerical issues were encountered \"\n",
            "/usr/local/lib/python3.6/dist-packages/sklearn/preprocessing/_data.py:173: UserWarning: Numerical issues were encountered when centering the data and might not be solved. Dataset may contain too large values. You may need to prescale your features.\n",
            "  warnings.warn(\"Numerical issues were encountered \"\n"
          ],
          "name": "stderr"
        },
        {
          "output_type": "stream",
          "text": [
            "[[ 379    1    4    2    1    1]\n",
            " [   0  240  164    9    0    0]\n",
            " [   0   32  984  232    9    1]\n",
            " [   0    2  137 1742  161    1]\n",
            " [   1    0   10  305 1058   54]\n",
            " [   0    0    1   12  137  320]]\n",
            "0.7871666666666667\n"
          ],
          "name": "stdout"
        }
      ]
    },
    {
      "cell_type": "code",
      "metadata": {
        "id": "TwRi8y3KqHY_",
        "colab_type": "code",
        "colab": {}
      },
      "source": [
        "x1=gsr.drop(['greatstone_rating','tag','maturity_bond'],axis=1)"
      ],
      "execution_count": 0,
      "outputs": []
    },
    {
      "cell_type": "code",
      "metadata": {
        "id": "Ytciogc6qHZB",
        "colab_type": "code",
        "colab": {}
      },
      "source": [
        "x_train1, x_test1, y_train, y_test = train_test_split(x1, y, test_size=0.30,random_state=1)"
      ],
      "execution_count": 0,
      "outputs": []
    },
    {
      "cell_type": "code",
      "metadata": {
        "id": "47sG4CwVqHZD",
        "colab_type": "code",
        "outputId": "2d9f41bf-d862-42ce-f064-d44ced59c492",
        "colab": {}
      },
      "source": [
        "clf.fit(x_train1, y_train)\n",
        "y_predict = clf.predict(x_test1)\n",
        "#model_score = clf.score(x_test_scaled, y_test)\n",
        "print(metrics.confusion_matrix(y_test, y_predict))\n",
        "print(metrics.accuracy_score(y_test, y_predict))"
      ],
      "execution_count": 0,
      "outputs": [
        {
          "output_type": "stream",
          "text": [
            "[[ 384    0    2    1    0    1]\n",
            " [   1  267  138    7    0    0]\n",
            " [   0   43  975  231    9    0]\n",
            " [   1    1  131 1714  192    4]\n",
            " [   1    0    8  267 1080   72]\n",
            " [   0    0    1    7  119  343]]\n",
            "0.7938333333333333\n"
          ],
          "name": "stdout"
        }
      ]
    },
    {
      "cell_type": "code",
      "metadata": {
        "id": "ZnSubyxoqHZF",
        "colab_type": "code",
        "colab": {}
      },
      "source": [
        "x_graph1=remcor[['greatstone_rating','investment_class_Blend','investment_class_Growth','investment_class_Value','investment_class_null','total_assets','yield','inception_date','return_ytd']]"
      ],
      "execution_count": 0,
      "outputs": []
    },
    {
      "cell_type": "code",
      "metadata": {
        "id": "xV1Sbq6axv0U",
        "colab_type": "code",
        "outputId": "ba388bcd-bf9f-4960-8798-456e2f494b27",
        "colab": {
          "base_uri": "https://localhost:8080/",
          "height": 71
        }
      },
      "source": [
        "import seaborn as sns"
      ],
      "execution_count": 0,
      "outputs": [
        {
          "output_type": "stream",
          "text": [
            "/usr/local/lib/python3.6/dist-packages/statsmodels/tools/_testing.py:19: FutureWarning: pandas.util.testing is deprecated. Use the functions in the public API at pandas.testing instead.\n",
            "  import pandas.util.testing as tm\n"
          ],
          "name": "stderr"
        }
      ]
    },
    {
      "cell_type": "code",
      "metadata": {
        "id": "8TWTowEuxC65",
        "colab_type": "code",
        "outputId": "036cc841-e94f-4810-b4ad-2d7ce944bb48",
        "colab": {
          "base_uri": "https://localhost:8080/",
          "height": 49
        }
      },
      "source": [
        "x2.iloc[1:1,58:64]"
      ],
      "execution_count": 0,
      "outputs": [
        {
          "output_type": "execute_result",
          "data": {
            "text/html": [
              "<div>\n",
              "<style scoped>\n",
              "    .dataframe tbody tr th:only-of-type {\n",
              "        vertical-align: middle;\n",
              "    }\n",
              "\n",
              "    .dataframe tbody tr th {\n",
              "        vertical-align: top;\n",
              "    }\n",
              "\n",
              "    .dataframe thead th {\n",
              "        text-align: right;\n",
              "    }\n",
              "</style>\n",
              "<table border=\"1\" class=\"dataframe\">\n",
              "  <thead>\n",
              "    <tr style=\"text-align: right;\">\n",
              "      <th></th>\n",
              "      <th>ID-3 years</th>\n",
              "      <th>ID-3 to 5 years</th>\n",
              "      <th>ID-5 to 10</th>\n",
              "      <th>ID-10 to 15</th>\n",
              "      <th>ID-15 to 20</th>\n",
              "      <th>ID-20 and older</th>\n",
              "    </tr>\n",
              "  </thead>\n",
              "  <tbody>\n",
              "  </tbody>\n",
              "</table>\n",
              "</div>"
            ],
            "text/plain": [
              "Empty DataFrame\n",
              "Columns: [ID-3 years, ID-3 to 5 years, ID-5 to 10 , ID-10 to 15, ID-15 to 20, ID-20 and older]\n",
              "Index: []"
            ]
          },
          "metadata": {
            "tags": []
          },
          "execution_count": 137
        }
      ]
    },
    {
      "cell_type": "code",
      "metadata": {
        "id": "bkuSt67BxW-H",
        "colab_type": "code",
        "colab": {}
      },
      "source": [
        "x_graph1=remcor[['greatstone_rating','investment_class_Blend','investment_class_Growth','investment_class_Value','investment_class_null','total_assets','yield','tag','fund_size_Large','fund_size_Medium','fund_size_Small','fund_size_Null','return_ytd','10years_category_r_squared','10yrs_sharpe_ratio_fund','10_years_alpha_fund','10years_fund_r_squared','10years_fund_std','10yrs_sharpe_ratio_category','10_years_beta_fund','10yrs_treynor_ratio_fund','10_years_return_mean_annual_category','10yrs_treynor_ratio_category','10_years_return_fund','10_years_alpha_category','10_years_beta_category','10years_category_std','10_years_return_mean_annual_fund','10_years_return_category','category_r_squared_5years','5yrs_sharpe_ratio_fund','5_years_alpha_fund','5years_fund_r_squared','5years_fund_std','5yrs_sharpe_ratio_category','5_years_beta_fund','5yrs_treynor_ratio_fund','5_years_return_mean_annual_fund','5_years_return_mean_annual_category','5yrs_treynor_ratio_category','5_years_return_fund','5_years_alpha_category','5_years_beta_category','5years_category_std','5_years_return_category','portfolio_communication_allocation','portfolio_financial_services','portfolio_industrials_allocation','portfolio_tech_allocation','portfolio_materials_basic_allocation','portfolio_energy_allocation','portfolio_consumer_defence_allocation','portfolio_healthcare_allocation','portfolio_property_allocation','portfolio_utils_allocation','portfolio_cyclical_consumer_allocation','3yrs_treynor_ratio_fund','3_years_alpha_fund','3years_category_std','3yrs_sharpe_ratio_fund','3yrs_treynor_ratio_category','3_years_return_mean_annual_fund','fund_beta_3years','3years_fund_r_squared','3years_fund_std','category_beta_3years','fund_return_3years','3_years_alpha_category','3_years_return_mean_annual_category','3yrs_sharpe_ratio_category','3years_category_r_squared','3_years_return_category','2014_category_return','2012_return_category','years_up','2018_return_category','category_return_1year','cash_percent_of_portfolio','pc_ratio','2011_return_category','ytd_return_fund','years_down','2014_return_fund','category_return_1month','2013_return_fund','fund_return_3months','ytd_return_category','pb_ratio','2017_category_return','1_year_return_fund','pe_ratio','2015_return_fund','portfolio_convertable','3_months_return_category','portfolio_others','2016_return_fund','mmc','stock_percent_of_portfolio','2016_return_category','ps_ratio','2011_return_fund','2010_return_fund','2012_fund_return','2018_return_fund','2017_return_fund','category_ratio_net_annual_expense','category_return_2015','1_month_fund_return','bond_percentage_of_porfolio','portfolio_preferred','2010_return_category','2013_category_return','fund_ratio_net_annual_expense','bb_rating','us_govt_bond_rating','below_b_rating','others_rating','maturity_bond','b_rating','a_rating','aaa_rating','aa_rating','bbb_rating','duration_bond','ID-0 to 5 years','ID-5 to 10','ID-10 to 15','ID-15 to 20','ID-20 and older']]"
      ],
      "execution_count": 0,
      "outputs": []
    },
    {
      "cell_type": "code",
      "metadata": {
        "id": "YGzryRzlqHZI",
        "colab_type": "code",
        "colab": {}
      },
      "source": [
        "#sns.heatmap(x_graph1.corr(),annot=True)"
      ],
      "execution_count": 0,
      "outputs": []
    },
    {
      "cell_type": "code",
      "metadata": {
        "id": "f4CA4o1sYrq9",
        "colab_type": "code",
        "outputId": "8c5075e3-f0c2-4cb7-981e-6c283cba5adf",
        "colab": {
          "base_uri": "https://localhost:8080/",
          "height": 134
        }
      },
      "source": [
        "x_graph1.corr().iloc[0:1,90:140]"
      ],
      "execution_count": 0,
      "outputs": [
        {
          "output_type": "execute_result",
          "data": {
            "text/html": [
              "<div>\n",
              "<style scoped>\n",
              "    .dataframe tbody tr th:only-of-type {\n",
              "        vertical-align: middle;\n",
              "    }\n",
              "\n",
              "    .dataframe tbody tr th {\n",
              "        vertical-align: top;\n",
              "    }\n",
              "\n",
              "    .dataframe thead th {\n",
              "        text-align: right;\n",
              "    }\n",
              "</style>\n",
              "<table border=\"1\" class=\"dataframe\">\n",
              "  <thead>\n",
              "    <tr style=\"text-align: right;\">\n",
              "      <th></th>\n",
              "      <th>pe_ratio</th>\n",
              "      <th>2015_return_fund</th>\n",
              "      <th>portfolio_convertable</th>\n",
              "      <th>3_months_return_category</th>\n",
              "      <th>portfolio_others</th>\n",
              "      <th>2016_return_fund</th>\n",
              "      <th>mmc</th>\n",
              "      <th>stock_percent_of_portfolio</th>\n",
              "      <th>2016_return_category</th>\n",
              "      <th>ps_ratio</th>\n",
              "      <th>2011_return_fund</th>\n",
              "      <th>2010_return_fund</th>\n",
              "      <th>2012_fund_return</th>\n",
              "      <th>2018_return_fund</th>\n",
              "      <th>2017_return_fund</th>\n",
              "      <th>category_ratio_net_annual_expense</th>\n",
              "      <th>category_return_2015</th>\n",
              "      <th>1_month_fund_return</th>\n",
              "      <th>bond_percentage_of_porfolio</th>\n",
              "      <th>portfolio_preferred</th>\n",
              "      <th>2010_return_category</th>\n",
              "      <th>2013_category_return</th>\n",
              "      <th>fund_ratio_net_annual_expense</th>\n",
              "      <th>bb_rating</th>\n",
              "      <th>us_govt_bond_rating</th>\n",
              "      <th>below_b_rating</th>\n",
              "      <th>others_rating</th>\n",
              "      <th>maturity_bond</th>\n",
              "      <th>b_rating</th>\n",
              "      <th>a_rating</th>\n",
              "      <th>aaa_rating</th>\n",
              "      <th>aa_rating</th>\n",
              "      <th>bbb_rating</th>\n",
              "      <th>duration_bond</th>\n",
              "      <th>ID-0 to 5 years</th>\n",
              "      <th>ID-5 to 10</th>\n",
              "      <th>ID-10 to 15</th>\n",
              "      <th>ID-15 to 20</th>\n",
              "      <th>ID-20 and older</th>\n",
              "    </tr>\n",
              "  </thead>\n",
              "  <tbody>\n",
              "    <tr>\n",
              "      <th>greatstone_rating</th>\n",
              "      <td>-0.029939</td>\n",
              "      <td>0.017527</td>\n",
              "      <td>-0.031088</td>\n",
              "      <td>-0.094119</td>\n",
              "      <td>0.01038</td>\n",
              "      <td>0.113006</td>\n",
              "      <td>-0.073684</td>\n",
              "      <td>-0.090317</td>\n",
              "      <td>0.001938</td>\n",
              "      <td>0.01243</td>\n",
              "      <td>0.091519</td>\n",
              "      <td>0.208266</td>\n",
              "      <td>0.156733</td>\n",
              "      <td>0.161358</td>\n",
              "      <td>0.02095</td>\n",
              "      <td>0.055587</td>\n",
              "      <td>-0.017804</td>\n",
              "      <td>0.016611</td>\n",
              "      <td>0.127266</td>\n",
              "      <td>0.056802</td>\n",
              "      <td>0.127266</td>\n",
              "      <td>0.061365</td>\n",
              "      <td>0.032409</td>\n",
              "      <td>0.019607</td>\n",
              "      <td>NaN</td>\n",
              "      <td>0.048095</td>\n",
              "      <td>0.082008</td>\n",
              "      <td>-0.019528</td>\n",
              "      <td>0.039603</td>\n",
              "      <td>0.105736</td>\n",
              "      <td>0.010698</td>\n",
              "      <td>0.148066</td>\n",
              "      <td>0.074215</td>\n",
              "      <td>-0.153938</td>\n",
              "      <td>-0.595584</td>\n",
              "      <td>0.280114</td>\n",
              "      <td>0.237211</td>\n",
              "      <td>0.126403</td>\n",
              "      <td>0.216975</td>\n",
              "    </tr>\n",
              "  </tbody>\n",
              "</table>\n",
              "</div>"
            ],
            "text/plain": [
              "                   pe_ratio  2015_return_fund  ...  ID-15 to 20  ID-20 and older\n",
              "greatstone_rating -0.029939          0.017527  ...     0.126403         0.216975\n",
              "\n",
              "[1 rows x 39 columns]"
            ]
          },
          "metadata": {
            "tags": []
          },
          "execution_count": 39
        }
      ]
    },
    {
      "cell_type": "code",
      "metadata": {
        "id": "729EvQ_F_iWz",
        "colab_type": "code",
        "outputId": "dd91e27f-8e9a-4967-f35e-33007253a9d1",
        "colab": {
          "base_uri": "https://localhost:8080/",
          "height": 50
        }
      },
      "source": [
        "x_r5=pd.DataFrame(x_graph1.corr().abs()>.01)"
      ],
      "execution_count": 0,
      "outputs": [
        {
          "output_type": "execute_result",
          "data": {
            "text/plain": [
              "greatstone_rating_5  greatstone_rating_5    True\n",
              "dtype: bool"
            ]
          },
          "metadata": {
            "tags": []
          },
          "execution_count": 47
        }
      ]
    },
    {
      "cell_type": "code",
      "metadata": {
        "id": "Y1CiYlgqHEr-",
        "colab_type": "code",
        "outputId": "3cd311d0-6418-42ad-90ff-1b817ee96e62",
        "colab": {
          "base_uri": "https://localhost:8080/",
          "height": 245
        }
      },
      "source": [
        "x_r5.unstack()\n",
        "print (x_r5)"
      ],
      "execution_count": 0,
      "outputs": [
        {
          "output_type": "stream",
          "text": [
            "                         greatstone_rating_5  ...  ID-20 and older\n",
            "greatstone_rating_5                     True  ...             True\n",
            "investment_class_Blend                  True  ...             True\n",
            "investment_class_Growth                 True  ...             True\n",
            "investment_class_Value                  True  ...            False\n",
            "investment_class_null                  False  ...             True\n",
            "...                                      ...  ...              ...\n",
            "ID-3 to 5 years                         True  ...             True\n",
            "ID-5 to 10                              True  ...             True\n",
            "ID-10 to 15                             True  ...             True\n",
            "ID-15 to 20                             True  ...             True\n",
            "ID-20 and older                         True  ...             True\n",
            "\n",
            "[130 rows x 130 columns]\n"
          ],
          "name": "stdout"
        }
      ]
    },
    {
      "cell_type": "code",
      "metadata": {
        "id": "mHbLe6fAuijt",
        "colab_type": "code",
        "outputId": "4a091b99-2f5e-4afa-e069-bcda00bc367e",
        "colab": {
          "base_uri": "https://localhost:8080/",
          "height": 68
        }
      },
      "source": [
        "x_graph1['greatstone_rating_3'].head(2)"
      ],
      "execution_count": 0,
      "outputs": [
        {
          "output_type": "execute_result",
          "data": {
            "text/plain": [
              "0    1\n",
              "1    0\n",
              "Name: greatstone_rating_3, dtype: int64"
            ]
          },
          "metadata": {
            "tags": []
          },
          "execution_count": 79
        }
      ]
    },
    {
      "cell_type": "code",
      "metadata": {
        "id": "IgPDlF6JVBqe",
        "colab_type": "code",
        "outputId": "58df5453-7435-40b5-e72b-cb82ff179752",
        "colab": {
          "base_uri": "https://localhost:8080/",
          "height": 71
        }
      },
      "source": [
        "import seaborn as sns"
      ],
      "execution_count": 0,
      "outputs": [
        {
          "output_type": "stream",
          "text": [
            "/usr/local/lib/python3.6/dist-packages/statsmodels/tools/_testing.py:19: FutureWarning: pandas.util.testing is deprecated. Use the functions in the public API at pandas.testing instead.\n",
            "  import pandas.util.testing as tm\n"
          ],
          "name": "stderr"
        }
      ]
    },
    {
      "cell_type": "code",
      "metadata": {
        "id": "5XuVCStqd2FG",
        "colab_type": "code",
        "colab": {}
      },
      "source": [
        "remcor=pd.read_csv('/content/drive/My Drive/Colab Notebooks/Test_May_10_Remain_Corr.csv')"
      ],
      "execution_count": 0,
      "outputs": []
    },
    {
      "cell_type": "code",
      "metadata": {
        "id": "SMmArQp_qHZK",
        "colab_type": "code",
        "colab": {}
      },
      "source": [
        "x_graph2=gsr[['greatstone_rating','10years_category_r_squared','10yrs_sharpe_ratio_fund','10_years_alpha_fund','10years_fund_r_squared','10years_fund_std','10yrs_sharpe_ratio_category','10_years_beta_fund','10yrs_treynor_ratio_fund','10_years_return_mean_annual_category','10yrs_treynor_ratio_category','10_years_return_fund','10_years_alpha_category','10_years_beta_category','10years_category_std','10_years_return_mean_annual_fund','10_years_return_category']]"
      ],
      "execution_count": 0,
      "outputs": []
    },
    {
      "cell_type": "code",
      "metadata": {
        "id": "nYF5BMYOy6qg",
        "colab_type": "code",
        "colab": {}
      },
      "source": [
        "x_graph2=gsr[['greatstone_rating','10years_fund_r_squared','10years_fund_std','10yrs_sharpe_ratio_category','10_years_beta_fund','10yrs_treynor_ratio_fund']]"
      ],
      "execution_count": 0,
      "outputs": []
    },
    {
      "cell_type": "code",
      "metadata": {
        "id": "8kJuj17VqHZN",
        "colab_type": "code",
        "outputId": "b7669188-279d-479a-ed06-83ebd28f9c4f",
        "colab": {
          "base_uri": "https://localhost:8080/",
          "height": 421
        }
      },
      "source": [
        "sns.heatmap(x_graph2.corr(),annot=True)"
      ],
      "execution_count": 0,
      "outputs": [
        {
          "output_type": "execute_result",
          "data": {
            "text/plain": [
              "<matplotlib.axes._subplots.AxesSubplot at 0x7f05e06ba6a0>"
            ]
          },
          "metadata": {
            "tags": []
          },
          "execution_count": 55
        },
        {
          "output_type": "display_data",
          "data": {
            "image/png": "[encoded data removed]",
            "text/plain": [
              "<Figure size 432x288 with 2 Axes>"
            ]
          },
          "metadata": {
            "tags": [],
            "needs_background": "light"
          }
        }
      ]
    },
    {
      "cell_type": "code",
      "metadata": {
        "id": "zcz2S49PqHZP",
        "colab_type": "code",
        "colab": {}
      },
      "source": [
        "x_graph3=gsr[['greatstone_rating','5yrs_treynor_ratio_category','5_years_return_fund','5_years_alpha_category','5_years_beta_category','5years_category_std','5_years_return_category']]"
      ],
      "execution_count": 0,
      "outputs": []
    },
    {
      "cell_type": "code",
      "metadata": {
        "id": "GwB5sAqE1ItI",
        "colab_type": "code",
        "colab": {}
      },
      "source": [
        "x_graph3=gsr[['greatstone_rating','category_r_squared_5years','5yrs_sharpe_ratio_fund','5_years_alpha_fund','5years_fund_r_squared','5years_fund_std','5yrs_sharpe_ratio_category','5_years_beta_fund','5yrs_treynor_ratio_fund','5_years_return_mean_annual_fund','5_years_return_mean_annual_category','5yrs_treynor_ratio_category','5_years_return_fund','5_years_alpha_category','5_years_beta_category','5years_category_std','5_years_return_category']]"
      ],
      "execution_count": 0,
      "outputs": []
    },
    {
      "cell_type": "code",
      "metadata": {
        "id": "N2JnygxsqHZS",
        "colab_type": "code",
        "outputId": "f195235d-74d7-4765-fef5-ee228633cf34",
        "colab": {
          "base_uri": "https://localhost:8080/",
          "height": 417
        }
      },
      "source": [
        "sns.heatmap(x_graph3.corr(),annot=True)"
      ],
      "execution_count": 0,
      "outputs": [
        {
          "output_type": "execute_result",
          "data": {
            "text/plain": [
              "<matplotlib.axes._subplots.AxesSubplot at 0x7f05e08e9dd8>"
            ]
          },
          "metadata": {
            "tags": []
          },
          "execution_count": 71
        },
        {
          "output_type": "display_data",
          "data": {
            "image/png": "[encoded data removed]",
            "text/plain": [
              "<Figure size 432x288 with 2 Axes>"
            ]
          },
          "metadata": {
            "tags": [],
            "needs_background": "light"
          }
        }
      ]
    },
    {
      "cell_type": "code",
      "metadata": {
        "id": "SFTT0MEQqHZU",
        "colab_type": "code",
        "colab": {}
      },
      "source": [
        "x_graph4=gsr[['greatstone_rating','portfolio_healthcare_allocation','portfolio_property_allocation','portfolio_utils_allocation','portfolio_cyclical_consumer_allocation']]"
      ],
      "execution_count": 0,
      "outputs": []
    },
    {
      "cell_type": "code",
      "metadata": {
        "id": "1r8tsZS39D2Z",
        "colab_type": "code",
        "colab": {}
      },
      "source": [
        "x_graph4=gsr[['greatstone_rating','portfolio_communication_allocation','portfolio_financial_services','portfolio_industrials_allocation','portfolio_tech_allocation','portfolio_materials_basic_allocation','portfolio_energy_allocation','portfolio_consumer_defence_allocation','portfolio_healthcare_allocation','portfolio_property_allocation','portfolio_utils_allocation','portfolio_cyclical_consumer_allocation']]"
      ],
      "execution_count": 0,
      "outputs": []
    },
    {
      "cell_type": "code",
      "metadata": {
        "id": "SOBmuWr5qHZW",
        "colab_type": "code",
        "outputId": "7be034fa-170c-4f8f-eaba-d8ae4baff90c",
        "colab": {
          "base_uri": "https://localhost:8080/",
          "height": 469
        }
      },
      "source": [
        "sns.heatmap(x_graph4.corr(),annot=True)"
      ],
      "execution_count": 0,
      "outputs": [
        {
          "output_type": "execute_result",
          "data": {
            "text/plain": [
              "<matplotlib.axes._subplots.AxesSubplot at 0x7f196f6c4080>"
            ]
          },
          "metadata": {
            "tags": []
          },
          "execution_count": 79
        },
        {
          "output_type": "display_data",
          "data": {
            "image/png": "[encoded data removed]",
            "text/plain": [
              "<Figure size 432x288 with 2 Axes>"
            ]
          },
          "metadata": {
            "tags": [],
            "needs_background": "light"
          }
        }
      ]
    },
    {
      "cell_type": "code",
      "metadata": {
        "id": "tO3enR_c-YqT",
        "colab_type": "code",
        "colab": {}
      },
      "source": [
        "x_graph5=gsr[['greatstone_rating','fund_return_3years','3_years_alpha_category','3_years_return_mean_annual_category','3yrs_sharpe_ratio_category','3years_category_r_squared','3_years_return_category']]"
      ],
      "execution_count": 0,
      "outputs": []
    },
    {
      "cell_type": "code",
      "metadata": {
        "id": "_bHuvrls_TM1",
        "colab_type": "code",
        "colab": {}
      },
      "source": [
        "x_graph5=gsr[['greatstone_rating','3yrs_treynor_ratio_fund','3_years_alpha_fund','3years_category_std','3yrs_sharpe_ratio_fund','3yrs_treynor_ratio_category','3_years_return_mean_annual_fund','fund_beta_3years','3years_fund_r_squared','3years_fund_std','category_beta_3years','fund_return_3years','3_years_alpha_category','3_years_return_mean_annual_category','3yrs_sharpe_ratio_category','3years_category_r_squared','3_years_return_category']]"
      ],
      "execution_count": 0,
      "outputs": []
    },
    {
      "cell_type": "markdown",
      "metadata": {
        "id": "MpjqyVw6qHZY",
        "colab_type": "raw"
      },
      "source": [
        "x_graph5=gsr[['greatstone_rating','3yrs_treynor_ratio_fund','3_years_alpha_fund','3years_category_std','3yrs_sharpe_ratio_fund','3yrs_treynor_ratio_category','3_years_return_mean_annual_fund','fund_beta_3years','3years_fund_r_squared','3years_fund_std','category_beta_3years','fund_return_3years','3_years_alpha_category','3_years_return_mean_annual_category','3yrs_sharpe_ratio_category','3years_category_r_squared','3_years_return_category']]"
      ]
    },
    {
      "cell_type": "code",
      "metadata": {
        "id": "uiQPWPy5qHZY",
        "colab_type": "code",
        "outputId": "cfe44253-2977-4741-e622-e8c79dba9751",
        "colab": {
          "base_uri": "https://localhost:8080/",
          "height": 473
        }
      },
      "source": [
        "sns.heatmap(x_graph5.corr(),annot=True)"
      ],
      "execution_count": 0,
      "outputs": [
        {
          "output_type": "execute_result",
          "data": {
            "text/plain": [
              "<matplotlib.axes._subplots.AxesSubplot at 0x7f13c04dd048>"
            ]
          },
          "metadata": {
            "tags": []
          },
          "execution_count": 87
        },
        {
          "output_type": "display_data",
          "data": {
            "image/png": "[encoded data removed]",
            "text/plain": [
              "<Figure size 432x288 with 2 Axes>"
            ]
          },
          "metadata": {
            "tags": [],
            "needs_background": "light"
          }
        }
      ]
    },
    {
      "cell_type": "code",
      "metadata": {
        "id": "oAIwVAJ7qHZb",
        "colab_type": "code",
        "colab": {}
      },
      "source": [
        "x_graph6=gsr[['greatstone_rating','a_rating','aaa_rating','aa_rating','bbb_rating','duration_bond']]"
      ],
      "execution_count": 0,
      "outputs": []
    },
    {
      "cell_type": "code",
      "metadata": {
        "id": "-lX_SxYZA2vx",
        "colab_type": "code",
        "colab": {}
      },
      "source": [
        "x_graph6=gsr[['greatstone_rating','fund_ratio_net_annual_expense','bb_rating','us_govt_bond_rating','below_b_rating','others_rating','maturity_bond','b_rating','a_rating','aaa_rating','aa_rating','bbb_rating','duration_bond']]"
      ],
      "execution_count": 0,
      "outputs": []
    },
    {
      "cell_type": "code",
      "metadata": {
        "id": "OcaygaDxqHZc",
        "colab_type": "code",
        "outputId": "041b1ae8-431b-4207-9126-c128b10588a3",
        "colab": {
          "base_uri": "https://localhost:8080/",
          "height": 366
        }
      },
      "source": [
        "sns.heatmap(x_graph6.corr(),annot=True)"
      ],
      "execution_count": 0,
      "outputs": [
        {
          "output_type": "execute_result",
          "data": {
            "text/plain": [
              "<matplotlib.axes._subplots.AxesSubplot at 0x7f05e11145f8>"
            ]
          },
          "metadata": {
            "tags": []
          },
          "execution_count": 95
        },
        {
          "output_type": "display_data",
          "data": {
            "image/png": "[encoded data removed]",
            "text/plain": [
              "<Figure size 432x288 with 2 Axes>"
            ]
          },
          "metadata": {
            "tags": [],
            "needs_background": "light"
          }
        }
      ]
    },
    {
      "cell_type": "code",
      "metadata": {
        "id": "0hAbdEyjqHZe",
        "colab_type": "code",
        "colab": {}
      },
      "source": [
        "x_graph7=gsr[['greatstone_rating','category_ratio_net_annual_expense','category_return_2015','1_month_fund_return','bond_percentage_of_porfolio','portfolio_preferred','2010_return_category','2013_category_return']]"
      ],
      "execution_count": 0,
      "outputs": []
    },
    {
      "cell_type": "code",
      "metadata": {
        "id": "CKs9iOHfO9ZK",
        "colab_type": "code",
        "colab": {}
      },
      "source": [
        "x_graph7=gsr[['greatstone_rating','2014_category_return','2012_return_category','years_up','2018_return_category','category_return_1year','cash_percent_of_portfolio','pc_ratio','2011_return_category','ytd_return_fund','years_down','2014_return_fund','category_return_1month','2013_return_fund','fund_return_3months','ytd_return_category','pb_ratio','2017_category_return','1_year_return_fund','pe_ratio','2015_return_fund','portfolio_convertable','3_months_return_category','portfolio_others','2016_return_fund','mmc','stock_percent_of_portfolio','2016_return_category','ps_ratio','2011_return_fund','2010_return_fund','2012_fund_return','2018_return_fund','2017_return_fund','category_ratio_net_annual_expense','category_return_2015','1_month_fund_return','bond_percentage_of_porfolio','portfolio_preferred','2010_return_category','2013_category_return']]"
      ],
      "execution_count": 0,
      "outputs": []
    },
    {
      "cell_type": "code",
      "metadata": {
        "id": "aEsru1sBqHZg",
        "colab_type": "code",
        "outputId": "0ff370f5-20f3-4de4-847d-79e9f451fcb5",
        "colab": {
          "base_uri": "https://localhost:8080/",
          "height": 457
        }
      },
      "source": [
        "sns.heatmap(x_graph7.corr(),annot=True)"
      ],
      "execution_count": 0,
      "outputs": [
        {
          "output_type": "execute_result",
          "data": {
            "text/plain": [
              "<matplotlib.axes._subplots.AxesSubplot at 0x7f6e37f140f0>"
            ]
          },
          "metadata": {
            "tags": []
          },
          "execution_count": 46
        },
        {
          "output_type": "display_data",
          "data": {
            "image/png": "[encoded data removed]",
            "text/plain": [
              "<Figure size 432x288 with 2 Axes>"
            ]
          },
          "metadata": {
            "tags": [],
            "needs_background": "light"
          }
        }
      ]
    },
    {
      "cell_type": "code",
      "metadata": {
        "id": "SG6SiNt_qHZi",
        "colab_type": "code",
        "colab": {}
      },
      "source": [
        "x2=gsr.drop(['greatstone_rating','tag','investment_class_null','inception_date','10years_category_r_squared','10years_fund_r_squared','10years_fund_std','10_years_beta_fund','10yrs_treynor_ratio_fund','10_years_return_mean_annual_category','10yrs_treynor_ratio_category','10_years_alpha_category','10_years_beta_category','10years_category_std','10_years_return_category','category_r_squared_5years','5years_fund_r_squared','5years_fund_std','5yrs_sharpe_ratio_category','5_years_beta_fund','5yrs_treynor_ratio_fund','5yrs_treynor_ratio_category','5_years_alpha_category','5_years_beta_category','5years_category_std','5_years_return_category','portfolio_communication_allocation','portfolio_financial_services','portfolio_industrials_allocation','portfolio_tech_allocation','portfolio_materials_basic_allocation','portfolio_energy_allocation','portfolio_consumer_defence_allocation','portfolio_healthcare_allocation','portfolio_property_allocation','portfolio_utils_allocation','portfolio_cyclical_consumer_allocation','3yrs_treynor_ratio_fund','3years_category_std','3yrs_treynor_ratio_category','fund_beta_3years','3years_fund_r_squared','3years_fund_std','category_beta_3years','3_years_alpha_category','3_years_return_mean_annual_category','3yrs_sharpe_ratio_category','3years_category_r_squared','3_years_return_category','fund_ratio_net_annual_expense','bb_rating','below_b_rating','others_rating','maturity_bond','b_rating','a_rating','aaa_rating','aa_rating','bbb_rating','duration_bond','cash_percent_of_portfolio','us_govt_bond_rating','fund_size_Null'],axis=1)"
      ],
      "execution_count": 0,
      "outputs": []
    },
    {
      "cell_type": "code",
      "metadata": {
        "id": "PwASRUhyqHZk",
        "colab_type": "code",
        "outputId": "4e043ed6-70c8-4aba-8eee-ad461ad986d8",
        "colab": {
          "base_uri": "https://localhost:8080/",
          "height": 126
        }
      },
      "source": [
        "x2.head(2)"
      ],
      "execution_count": 0,
      "outputs": [
        {
          "output_type": "execute_result",
          "data": {
            "text/html": [
              "<div>\n",
              "<style scoped>\n",
              "    .dataframe tbody tr th:only-of-type {\n",
              "        vertical-align: middle;\n",
              "    }\n",
              "\n",
              "    .dataframe tbody tr th {\n",
              "        vertical-align: top;\n",
              "    }\n",
              "\n",
              "    .dataframe thead th {\n",
              "        text-align: right;\n",
              "    }\n",
              "</style>\n",
              "<table border=\"1\" class=\"dataframe\">\n",
              "  <thead>\n",
              "    <tr style=\"text-align: right;\">\n",
              "      <th></th>\n",
              "      <th>investment_class_Blend</th>\n",
              "      <th>investment_class_Growth</th>\n",
              "      <th>investment_class_Value</th>\n",
              "      <th>total_assets</th>\n",
              "      <th>yield</th>\n",
              "      <th>fund_size_Large</th>\n",
              "      <th>fund_size_Medium</th>\n",
              "      <th>fund_size_Small</th>\n",
              "      <th>return_ytd</th>\n",
              "      <th>10yrs_sharpe_ratio_fund</th>\n",
              "      <th>10_years_alpha_fund</th>\n",
              "      <th>10yrs_sharpe_ratio_category</th>\n",
              "      <th>10_years_return_fund</th>\n",
              "      <th>10_years_return_mean_annual_fund</th>\n",
              "      <th>5yrs_sharpe_ratio_fund</th>\n",
              "      <th>5_years_alpha_fund</th>\n",
              "      <th>5_years_return_mean_annual_fund</th>\n",
              "      <th>5_years_return_mean_annual_category</th>\n",
              "      <th>5_years_return_fund</th>\n",
              "      <th>3_years_alpha_fund</th>\n",
              "      <th>3yrs_sharpe_ratio_fund</th>\n",
              "      <th>3_years_return_mean_annual_fund</th>\n",
              "      <th>fund_return_3years</th>\n",
              "      <th>2014_category_return</th>\n",
              "      <th>2012_return_category</th>\n",
              "      <th>years_up</th>\n",
              "      <th>2018_return_category</th>\n",
              "      <th>category_return_1year</th>\n",
              "      <th>pc_ratio</th>\n",
              "      <th>2011_return_category</th>\n",
              "      <th>ytd_return_fund</th>\n",
              "      <th>years_down</th>\n",
              "      <th>2014_return_fund</th>\n",
              "      <th>category_return_1month</th>\n",
              "      <th>2013_return_fund</th>\n",
              "      <th>fund_return_3months</th>\n",
              "      <th>ytd_return_category</th>\n",
              "      <th>pb_ratio</th>\n",
              "      <th>2017_category_return</th>\n",
              "      <th>1_year_return_fund</th>\n",
              "      <th>pe_ratio</th>\n",
              "      <th>2015_return_fund</th>\n",
              "      <th>portfolio_convertable</th>\n",
              "      <th>3_months_return_category</th>\n",
              "      <th>portfolio_others</th>\n",
              "      <th>2016_return_fund</th>\n",
              "      <th>mmc</th>\n",
              "      <th>stock_percent_of_portfolio</th>\n",
              "      <th>2016_return_category</th>\n",
              "      <th>ps_ratio</th>\n",
              "      <th>2011_return_fund</th>\n",
              "      <th>2010_return_fund</th>\n",
              "      <th>2012_fund_return</th>\n",
              "      <th>2018_return_fund</th>\n",
              "      <th>2017_return_fund</th>\n",
              "      <th>category_ratio_net_annual_expense</th>\n",
              "      <th>category_return_2015</th>\n",
              "      <th>1_month_fund_return</th>\n",
              "      <th>bond_percentage_of_porfolio</th>\n",
              "      <th>portfolio_preferred</th>\n",
              "      <th>2010_return_category</th>\n",
              "      <th>2013_category_return</th>\n",
              "    </tr>\n",
              "  </thead>\n",
              "  <tbody>\n",
              "    <tr>\n",
              "      <th>0</th>\n",
              "      <td>1</td>\n",
              "      <td>0</td>\n",
              "      <td>0</td>\n",
              "      <td>530280000.0</td>\n",
              "      <td>1.43</td>\n",
              "      <td>1</td>\n",
              "      <td>0</td>\n",
              "      <td>0</td>\n",
              "      <td>12.79</td>\n",
              "      <td>0.73</td>\n",
              "      <td>-1.90</td>\n",
              "      <td>0.01</td>\n",
              "      <td>6.39</td>\n",
              "      <td>0.55</td>\n",
              "      <td>0.31</td>\n",
              "      <td>-2.04</td>\n",
              "      <td>0.27</td>\n",
              "      <td>0.00</td>\n",
              "      <td>2.94</td>\n",
              "      <td>-1.72</td>\n",
              "      <td>0.70</td>\n",
              "      <td>0.60</td>\n",
              "      <td>7.10</td>\n",
              "      <td>1.54</td>\n",
              "      <td>10.74</td>\n",
              "      <td>7.0</td>\n",
              "      <td>-8.26</td>\n",
              "      <td>0.09</td>\n",
              "      <td>9.81</td>\n",
              "      <td>-3.990000</td>\n",
              "      <td>12.79</td>\n",
              "      <td>4.0</td>\n",
              "      <td>3.03</td>\n",
              "      <td>0.99</td>\n",
              "      <td>0.82</td>\n",
              "      <td>12.79</td>\n",
              "      <td>7.81</td>\n",
              "      <td>1.93</td>\n",
              "      <td>14.79</td>\n",
              "      <td>9.49</td>\n",
              "      <td>21.58</td>\n",
              "      <td>-9.71</td>\n",
              "      <td>0.0</td>\n",
              "      <td>7.81</td>\n",
              "      <td>4.6</td>\n",
              "      <td>4.01</td>\n",
              "      <td>14247.52</td>\n",
              "      <td>76.25</td>\n",
              "      <td>6.04</td>\n",
              "      <td>2.32</td>\n",
              "      <td>-3.460000</td>\n",
              "      <td>12.200000</td>\n",
              "      <td>9.32</td>\n",
              "      <td>-5.37</td>\n",
              "      <td>14.67</td>\n",
              "      <td>1.01</td>\n",
              "      <td>-4.15</td>\n",
              "      <td>2.76</td>\n",
              "      <td>15.35</td>\n",
              "      <td>0.00</td>\n",
              "      <td>10.580000</td>\n",
              "      <td>10.07</td>\n",
              "    </tr>\n",
              "    <tr>\n",
              "      <th>1</th>\n",
              "      <td>1</td>\n",
              "      <td>0</td>\n",
              "      <td>0</td>\n",
              "      <td>88840000.0</td>\n",
              "      <td>2.62</td>\n",
              "      <td>1</td>\n",
              "      <td>0</td>\n",
              "      <td>0</td>\n",
              "      <td>9.21</td>\n",
              "      <td>0.97</td>\n",
              "      <td>-2.11</td>\n",
              "      <td>0.01</td>\n",
              "      <td>12.01</td>\n",
              "      <td>1.01</td>\n",
              "      <td>0.62</td>\n",
              "      <td>-2.60</td>\n",
              "      <td>0.60</td>\n",
              "      <td>0.01</td>\n",
              "      <td>6.91</td>\n",
              "      <td>-0.44</td>\n",
              "      <td>1.01</td>\n",
              "      <td>0.83</td>\n",
              "      <td>10.09</td>\n",
              "      <td>10.96</td>\n",
              "      <td>14.96</td>\n",
              "      <td>5.0</td>\n",
              "      <td>-6.27</td>\n",
              "      <td>6.90</td>\n",
              "      <td>13.60</td>\n",
              "      <td>-1.817817</td>\n",
              "      <td>9.21</td>\n",
              "      <td>2.0</td>\n",
              "      <td>9.69</td>\n",
              "      <td>1.29</td>\n",
              "      <td>30.05</td>\n",
              "      <td>9.21</td>\n",
              "      <td>12.94</td>\n",
              "      <td>2.94</td>\n",
              "      <td>20.44</td>\n",
              "      <td>5.51</td>\n",
              "      <td>11.76</td>\n",
              "      <td>-3.02</td>\n",
              "      <td>0.0</td>\n",
              "      <td>12.94</td>\n",
              "      <td>0.0</td>\n",
              "      <td>11.26</td>\n",
              "      <td>147673.66</td>\n",
              "      <td>47.13</td>\n",
              "      <td>10.37</td>\n",
              "      <td>2.81</td>\n",
              "      <td>-1.302252</td>\n",
              "      <td>13.549694</td>\n",
              "      <td>12.37</td>\n",
              "      <td>-5.53</td>\n",
              "      <td>17.05</td>\n",
              "      <td>0.94</td>\n",
              "      <td>-1.07</td>\n",
              "      <td>1.54</td>\n",
              "      <td>49.75</td>\n",
              "      <td>1.14</td>\n",
              "      <td>13.120187</td>\n",
              "      <td>31.50</td>\n",
              "    </tr>\n",
              "  </tbody>\n",
              "</table>\n",
              "</div>"
            ],
            "text/plain": [
              "   investment_class_Blend  ...  2013_category_return\n",
              "0                       1  ...                 10.07\n",
              "1                       1  ...                 31.50\n",
              "\n",
              "[2 rows x 62 columns]"
            ]
          },
          "metadata": {
            "tags": []
          },
          "execution_count": 14
        }
      ]
    },
    {
      "cell_type": "code",
      "metadata": {
        "id": "QAH2ncAEQaRp",
        "colab_type": "code",
        "outputId": "df1dd261-ec14-4e3c-8499-d5bf9efa7008",
        "colab": {
          "base_uri": "https://localhost:8080/",
          "height": 34
        }
      },
      "source": [
        "x2.shape"
      ],
      "execution_count": 0,
      "outputs": [
        {
          "output_type": "execute_result",
          "data": {
            "text/plain": [
              "(20000, 62)"
            ]
          },
          "metadata": {
            "tags": []
          },
          "execution_count": 100
        }
      ]
    },
    {
      "cell_type": "code",
      "metadata": {
        "id": "96_xKnAnqHZn",
        "colab_type": "code",
        "colab": {}
      },
      "source": [
        "x_train2, x_test2, y_train, y_test = train_test_split(x2, y, test_size=0.30,random_state=1)"
      ],
      "execution_count": 0,
      "outputs": []
    },
    {
      "cell_type": "code",
      "metadata": {
        "id": "mw_XOlQrqHZp",
        "colab_type": "code",
        "outputId": "afbe3e23-f5f1-4b21-9efa-6e08168227c3",
        "colab": {
          "base_uri": "https://localhost:8080/",
          "height": 134
        }
      },
      "source": [
        "clf.fit(x_train2, y_train)\n",
        "y_predict = clf.predict(x_test2)\n",
        "#model_score = clf.score(x_test_scaled, y_test)\n",
        "print(metrics.confusion_matrix(y_test, y_predict))\n",
        "print(metrics.accuracy_score(y_test, y_predict))"
      ],
      "execution_count": 0,
      "outputs": [
        {
          "output_type": "stream",
          "text": [
            "[[ 381    1    2    3    0    1]\n",
            " [   1  256  149    7    0    0]\n",
            " [   0   39  974  235   10    0]\n",
            " [   1    3  137 1714  187    1]\n",
            " [   2    0    9  277 1073   67]\n",
            " [   0    0    1   11  120  338]]\n",
            "0.7893333333333333\n"
          ],
          "name": "stdout"
        }
      ]
    },
    {
      "cell_type": "code",
      "metadata": {
        "id": "445mBSwqZvGS",
        "colab_type": "code",
        "outputId": "1c540a8e-0d92-4c5f-945e-51508a8ba7ec",
        "colab": {
          "base_uri": "https://localhost:8080/",
          "height": 229
        }
      },
      "source": [
        "clf.fit(scaledx_train2, y_train)\n",
        "y_predict = clf.predict(scaledx_test2)\n",
        "#model_score = clf.score(x_test_scaled, y_test)\n",
        "print(metrics.confusion_matrix(y_test, y_predict))\n",
        "print(metrics.accuracy_score(y_test, y_predict))"
      ],
      "execution_count": 0,
      "outputs": [
        {
          "output_type": "error",
          "ename": "NameError",
          "evalue": "ignored",
          "traceback": [
            "\u001b[0;31m---------------------------------------------------------------------------\u001b[0m",
            "\u001b[0;31mNameError\u001b[0m                                 Traceback (most recent call last)",
            "\u001b[0;32m<ipython-input-52-44c37798d3c2>\u001b[0m in \u001b[0;36m<module>\u001b[0;34m()\u001b[0m\n\u001b[0;32m----> 1\u001b[0;31m \u001b[0mclf\u001b[0m\u001b[0;34m.\u001b[0m\u001b[0mfit\u001b[0m\u001b[0;34m(\u001b[0m\u001b[0mscaledx_train2\u001b[0m\u001b[0;34m,\u001b[0m \u001b[0my_train\u001b[0m\u001b[0;34m)\u001b[0m\u001b[0;34m\u001b[0m\u001b[0;34m\u001b[0m\u001b[0m\n\u001b[0m\u001b[1;32m      2\u001b[0m \u001b[0my_predict\u001b[0m \u001b[0;34m=\u001b[0m \u001b[0mclf\u001b[0m\u001b[0;34m.\u001b[0m\u001b[0mpredict\u001b[0m\u001b[0;34m(\u001b[0m\u001b[0mscaledx_test2\u001b[0m\u001b[0;34m)\u001b[0m\u001b[0;34m\u001b[0m\u001b[0;34m\u001b[0m\u001b[0m\n\u001b[1;32m      3\u001b[0m \u001b[0;31m#model_score = clf.score(x_test_scaled, y_test)\u001b[0m\u001b[0;34m\u001b[0m\u001b[0;34m\u001b[0m\u001b[0;34m\u001b[0m\u001b[0m\n\u001b[1;32m      4\u001b[0m \u001b[0mprint\u001b[0m\u001b[0;34m(\u001b[0m\u001b[0mmetrics\u001b[0m\u001b[0;34m.\u001b[0m\u001b[0mconfusion_matrix\u001b[0m\u001b[0;34m(\u001b[0m\u001b[0my_test\u001b[0m\u001b[0;34m,\u001b[0m \u001b[0my_predict\u001b[0m\u001b[0;34m)\u001b[0m\u001b[0;34m)\u001b[0m\u001b[0;34m\u001b[0m\u001b[0;34m\u001b[0m\u001b[0m\n\u001b[1;32m      5\u001b[0m \u001b[0mprint\u001b[0m\u001b[0;34m(\u001b[0m\u001b[0mmetrics\u001b[0m\u001b[0;34m.\u001b[0m\u001b[0maccuracy_score\u001b[0m\u001b[0;34m(\u001b[0m\u001b[0my_test\u001b[0m\u001b[0;34m,\u001b[0m \u001b[0my_predict\u001b[0m\u001b[0;34m)\u001b[0m\u001b[0;34m)\u001b[0m\u001b[0;34m\u001b[0m\u001b[0;34m\u001b[0m\u001b[0m\n",
            "\u001b[0;31mNameError\u001b[0m: name 'scaledx_train2' is not defined"
          ]
        }
      ]
    },
    {
      "cell_type": "code",
      "metadata": {
        "id": "1M51hOKCjW_E",
        "colab_type": "code",
        "colab": {}
      },
      "source": [
        "y_predict_val = clf.predict(x_val)"
      ],
      "execution_count": 0,
      "outputs": []
    },
    {
      "cell_type": "code",
      "metadata": {
        "id": "UD57p_W6jfoZ",
        "colab_type": "code",
        "colab": {}
      },
      "source": [
        ""
      ],
      "execution_count": 0,
      "outputs": []
    },
    {
      "cell_type": "code",
      "metadata": {
        "id": "9Tla8pYHsyV2",
        "colab_type": "code",
        "outputId": "1d41d69d-edbd-4036-c585-180cb335a07b",
        "colab": {
          "base_uri": "https://localhost:8080/",
          "height": 34
        }
      },
      "source": [
        "# Import `Sequential` from `keras.models`\n",
        "from tensorflow import keras\n",
        "from keras.models import Sequential"
      ],
      "execution_count": 0,
      "outputs": [
        {
          "output_type": "stream",
          "text": [
            "Using TensorFlow backend.\n"
          ],
          "name": "stderr"
        }
      ]
    },
    {
      "cell_type": "code",
      "metadata": {
        "id": "-3YRGtuOs3WN",
        "colab_type": "code",
        "colab": {}
      },
      "source": [
        "# Import `Dense` from `keras.layers`\n",
        "from keras.layers import Dense,Dropout,Activation,Flatten"
      ],
      "execution_count": 0,
      "outputs": []
    },
    {
      "cell_type": "code",
      "metadata": {
        "id": "-1ttMg0Ls61M",
        "colab_type": "code",
        "colab": {}
      },
      "source": [
        "model = Sequential()"
      ],
      "execution_count": 0,
      "outputs": []
    },
    {
      "cell_type": "code",
      "metadata": {
        "id": "Yn1Jw3mn0rW-",
        "colab_type": "code",
        "outputId": "202efc17-4b15-4d41-9cc0-e82923f98988",
        "colab": {
          "base_uri": "https://localhost:8080/",
          "height": 34
        }
      },
      "source": [
        "x_train2.shape"
      ],
      "execution_count": 0,
      "outputs": [
        {
          "output_type": "execute_result",
          "data": {
            "text/plain": [
              "(14000, 62)"
            ]
          },
          "metadata": {
            "tags": []
          },
          "execution_count": 69
        }
      ]
    },
    {
      "cell_type": "code",
      "metadata": {
        "id": "P5SCEeGhtCRI",
        "colab_type": "code",
        "colab": {}
      },
      "source": [
        "model.add(Dense(960, activation='relu', input_shape=(62,)))\n",
        "\n",
        "# Add an input layer \n",
        "#model.add(Dense(8, activation='relu', input_shape=(10,)))\n",
        "\n",
        "# Add 1st hidden layer \n",
        "model.add(Dense(480, activation='relu'))\n",
        "\n",
        "# Add 2nd hidden layer \n",
        "model.add(Dense(10, activation='relu'))\n",
        "\n",
        "# Add 3rd hidden layer \n",
        "model.add(Dense(12, activation='relu'))\n",
        "\n",
        "# Add an output layer \n",
        "model.add(Dense(6, activation='softmax'))"
      ],
      "execution_count": 0,
      "outputs": []
    },
    {
      "cell_type": "markdown",
      "metadata": {
        "id": "WsvHjNZX7vtv",
        "colab_type": "text"
      },
      "source": [
        ""
      ]
    },
    {
      "cell_type": "code",
      "metadata": {
        "id": "aVfjbql9tHlV",
        "colab_type": "code",
        "colab": {}
      },
      "source": [
        "model.compile(loss='categorical_crossentropy',optimizer='adam',metrics=['accuracy'])"
      ],
      "execution_count": 0,
      "outputs": []
    },
    {
      "cell_type": "code",
      "metadata": {
        "id": "Vx4arlF_9TJ_",
        "colab_type": "code",
        "outputId": "f85ceefa-452f-4853-93dd-b32ff2952b50",
        "colab": {
          "base_uri": "https://localhost:8080/",
          "height": 522
        }
      },
      "source": [
        "model1.fit(x_train2,y_train2,batch_size=300,epochs=12,verbose=1,validation_data=(x_test2,y_test2))"
      ],
      "execution_count": 0,
      "outputs": [
        {
          "output_type": "error",
          "ename": "ValueError",
          "evalue": "ignored",
          "traceback": [
            "\u001b[0;31m---------------------------------------------------------------------------\u001b[0m",
            "\u001b[0;31mValueError\u001b[0m                                Traceback (most recent call last)",
            "\u001b[0;32m<ipython-input-87-d607baadc3e3>\u001b[0m in \u001b[0;36m<module>\u001b[0;34m()\u001b[0m\n\u001b[0;32m----> 1\u001b[0;31m \u001b[0mmodel1\u001b[0m\u001b[0;34m.\u001b[0m\u001b[0mfit\u001b[0m\u001b[0;34m(\u001b[0m\u001b[0mx_train2\u001b[0m\u001b[0;34m,\u001b[0m\u001b[0my_train2\u001b[0m\u001b[0;34m,\u001b[0m\u001b[0mbatch_size\u001b[0m\u001b[0;34m=\u001b[0m\u001b[0;36m300\u001b[0m\u001b[0;34m,\u001b[0m\u001b[0mepochs\u001b[0m\u001b[0;34m=\u001b[0m\u001b[0;36m12\u001b[0m\u001b[0;34m,\u001b[0m\u001b[0mverbose\u001b[0m\u001b[0;34m=\u001b[0m\u001b[0;36m1\u001b[0m\u001b[0;34m,\u001b[0m\u001b[0mvalidation_data\u001b[0m\u001b[0;34m=\u001b[0m\u001b[0;34m(\u001b[0m\u001b[0mx_test2\u001b[0m\u001b[0;34m,\u001b[0m\u001b[0my_test2\u001b[0m\u001b[0;34m)\u001b[0m\u001b[0;34m)\u001b[0m\u001b[0;34m\u001b[0m\u001b[0;34m\u001b[0m\u001b[0m\n\u001b[0m",
            "\u001b[0;32m/usr/local/lib/python3.6/dist-packages/keras/engine/training.py\u001b[0m in \u001b[0;36mfit\u001b[0;34m(self, x, y, batch_size, epochs, verbose, callbacks, validation_split, validation_data, shuffle, class_weight, sample_weight, initial_epoch, steps_per_epoch, validation_steps, validation_freq, max_queue_size, workers, use_multiprocessing, **kwargs)\u001b[0m\n\u001b[1;32m   1152\u001b[0m             \u001b[0msample_weight\u001b[0m\u001b[0;34m=\u001b[0m\u001b[0msample_weight\u001b[0m\u001b[0;34m,\u001b[0m\u001b[0;34m\u001b[0m\u001b[0;34m\u001b[0m\u001b[0m\n\u001b[1;32m   1153\u001b[0m             \u001b[0mclass_weight\u001b[0m\u001b[0;34m=\u001b[0m\u001b[0mclass_weight\u001b[0m\u001b[0;34m,\u001b[0m\u001b[0;34m\u001b[0m\u001b[0;34m\u001b[0m\u001b[0m\n\u001b[0;32m-> 1154\u001b[0;31m             batch_size=batch_size)\n\u001b[0m\u001b[1;32m   1155\u001b[0m \u001b[0;34m\u001b[0m\u001b[0m\n\u001b[1;32m   1156\u001b[0m         \u001b[0;31m# Prepare validation data.\u001b[0m\u001b[0;34m\u001b[0m\u001b[0;34m\u001b[0m\u001b[0;34m\u001b[0m\u001b[0m\n",
            "\u001b[0;32m/usr/local/lib/python3.6/dist-packages/keras/engine/training.py\u001b[0m in \u001b[0;36m_standardize_user_data\u001b[0;34m(self, x, y, sample_weight, class_weight, check_array_lengths, batch_size)\u001b[0m\n\u001b[1;32m    495\u001b[0m                                      \u001b[0;34m'either a single '\u001b[0m\u001b[0;34m\u001b[0m\u001b[0;34m\u001b[0m\u001b[0m\n\u001b[1;32m    496\u001b[0m                                      \u001b[0;34m'array or a list of arrays. '\u001b[0m\u001b[0;34m\u001b[0m\u001b[0;34m\u001b[0m\u001b[0m\n\u001b[0;32m--> 497\u001b[0;31m                                      'You passed: x=' + str(x))\n\u001b[0m\u001b[1;32m    498\u001b[0m                 \u001b[0mall_inputs\u001b[0m\u001b[0;34m.\u001b[0m\u001b[0mappend\u001b[0m\u001b[0;34m(\u001b[0m\u001b[0mx\u001b[0m\u001b[0;34m)\u001b[0m\u001b[0;34m\u001b[0m\u001b[0;34m\u001b[0m\u001b[0m\n\u001b[1;32m    499\u001b[0m \u001b[0;34m\u001b[0m\u001b[0m\n",
            "\u001b[0;31mValueError\u001b[0m: Please provide as model inputs either a single array or a list of arrays. You passed: x=       investment_class_Blend  ...  2013_category_return\n11408                       0  ...             18.580000\n3616                        1  ...             37.390000\n9747                        0  ...             31.500000\n6915                        1  ...             16.340789\n4888                        0  ...             16.340789\n...                       ...  ...                   ...\n10955                       0  ...             16.340789\n17289                       1  ...             16.340789\n5192                        1  ...             16.340789\n12172                       0  ...             -1.420000\n235                         0  ...             31.210000\n\n[14000 rows x 62 columns]"
          ]
        }
      ]
    },
    {
      "cell_type": "code",
      "metadata": {
        "id": "KYaWCepO7-WG",
        "colab_type": "code",
        "colab": {}
      },
      "source": [
        "model1 = Sequential()"
      ],
      "execution_count": 0,
      "outputs": []
    },
    {
      "cell_type": "code",
      "metadata": {
        "id": "n8qGbXcf7tS-",
        "colab_type": "code",
        "colab": {}
      },
      "source": [
        "model.add(Dense(960, activation='relu', input_shape=(123,)))\n",
        "\n",
        "# Add an input layer \n",
        "#model.add(Dense(8, activation='relu', input_shape=(10,)))\n",
        "\n",
        "# Add 1st hidden layer \n",
        "model1.add(Dense(480, activation='relu'))\n",
        "\n",
        "# Add 2nd hidden layer \n",
        "model1.add(Dense(120, activation='relu'))\n",
        "\n",
        "# Add 3rd hidden layer \n",
        "model1.add(Dense(12, activation='relu'))\n",
        "\n",
        "# Add an output layer \n",
        "model1.add(Dense(6, activation='softmax'))"
      ],
      "execution_count": 0,
      "outputs": []
    },
    {
      "cell_type": "code",
      "metadata": {
        "id": "o5Q6I93z4lhQ",
        "colab_type": "code",
        "colab": {}
      },
      "source": [
        "from keras.utils import np_utils"
      ],
      "execution_count": 0,
      "outputs": []
    },
    {
      "cell_type": "code",
      "metadata": {
        "id": "5et46D-l4R7l",
        "colab_type": "code",
        "outputId": "d468d7f6-fb0e-4969-f1ee-bcbcc503e676",
        "colab": {
          "base_uri": "https://localhost:8080/",
          "height": 34
        }
      },
      "source": [
        "#Encoding the output class label (One-Hot Encoding)\n",
        "y_train2=np_utils.to_categorical(y_train,6)\n",
        "y_test2=np_utils.to_categorical(y_test,6)\n",
        "y_train2[2]"
      ],
      "execution_count": 0,
      "outputs": [
        {
          "output_type": "execute_result",
          "data": {
            "text/plain": [
              "array([0., 0., 0., 0., 1., 0.], dtype=float32)"
            ]
          },
          "metadata": {
            "tags": []
          },
          "execution_count": 44
        }
      ]
    },
    {
      "cell_type": "code",
      "metadata": {
        "id": "sK49X7sT8Wtf",
        "colab_type": "code",
        "outputId": "cb2ab551-b022-4e8e-9dbc-1966d9cb90c3",
        "colab": {
          "base_uri": "https://localhost:8080/",
          "height": 155
        }
      },
      "source": [
        "x_train.head(2)"
      ],
      "execution_count": 0,
      "outputs": [
        {
          "output_type": "execute_result",
          "data": {
            "text/html": [
              "<div>\n",
              "<style scoped>\n",
              "    .dataframe tbody tr th:only-of-type {\n",
              "        vertical-align: middle;\n",
              "    }\n",
              "\n",
              "    .dataframe tbody tr th {\n",
              "        vertical-align: top;\n",
              "    }\n",
              "\n",
              "    .dataframe thead th {\n",
              "        text-align: right;\n",
              "    }\n",
              "</style>\n",
              "<table border=\"1\" class=\"dataframe\">\n",
              "  <thead>\n",
              "    <tr style=\"text-align: right;\">\n",
              "      <th></th>\n",
              "      <th>investment_class_Blend</th>\n",
              "      <th>investment_class_Growth</th>\n",
              "      <th>investment_class_Value</th>\n",
              "      <th>investment_class_null</th>\n",
              "      <th>total_assets</th>\n",
              "      <th>yield</th>\n",
              "      <th>inception_date</th>\n",
              "      <th>fund_size_Large</th>\n",
              "      <th>fund_size_Medium</th>\n",
              "      <th>fund_size_Small</th>\n",
              "      <th>fund_size_Null</th>\n",
              "      <th>return_ytd</th>\n",
              "      <th>10years_category_r_squared</th>\n",
              "      <th>10yrs_sharpe_ratio_fund</th>\n",
              "      <th>10_years_alpha_fund</th>\n",
              "      <th>10years_fund_r_squared</th>\n",
              "      <th>10years_fund_std</th>\n",
              "      <th>10yrs_sharpe_ratio_category</th>\n",
              "      <th>10_years_beta_fund</th>\n",
              "      <th>10yrs_treynor_ratio_fund</th>\n",
              "      <th>10_years_return_mean_annual_category</th>\n",
              "      <th>10yrs_treynor_ratio_category</th>\n",
              "      <th>10_years_return_fund</th>\n",
              "      <th>10_years_alpha_category</th>\n",
              "      <th>10_years_beta_category</th>\n",
              "      <th>10years_category_std</th>\n",
              "      <th>10_years_return_mean_annual_fund</th>\n",
              "      <th>10_years_return_category</th>\n",
              "      <th>category_r_squared_5years</th>\n",
              "      <th>5yrs_sharpe_ratio_fund</th>\n",
              "      <th>5_years_alpha_fund</th>\n",
              "      <th>5years_fund_r_squared</th>\n",
              "      <th>5years_fund_std</th>\n",
              "      <th>5yrs_sharpe_ratio_category</th>\n",
              "      <th>5_years_beta_fund</th>\n",
              "      <th>5yrs_treynor_ratio_fund</th>\n",
              "      <th>5_years_return_mean_annual_fund</th>\n",
              "      <th>5_years_return_mean_annual_category</th>\n",
              "      <th>5yrs_treynor_ratio_category</th>\n",
              "      <th>5_years_return_fund</th>\n",
              "      <th>...</th>\n",
              "      <th>2013_return_fund</th>\n",
              "      <th>fund_return_3months</th>\n",
              "      <th>ytd_return_category</th>\n",
              "      <th>pb_ratio</th>\n",
              "      <th>2017_category_return</th>\n",
              "      <th>1_year_return_fund</th>\n",
              "      <th>pe_ratio</th>\n",
              "      <th>2015_return_fund</th>\n",
              "      <th>portfolio_convertable</th>\n",
              "      <th>3_months_return_category</th>\n",
              "      <th>portfolio_others</th>\n",
              "      <th>2016_return_fund</th>\n",
              "      <th>mmc</th>\n",
              "      <th>stock_percent_of_portfolio</th>\n",
              "      <th>2016_return_category</th>\n",
              "      <th>ps_ratio</th>\n",
              "      <th>2011_return_fund</th>\n",
              "      <th>2010_return_fund</th>\n",
              "      <th>2012_fund_return</th>\n",
              "      <th>2018_return_fund</th>\n",
              "      <th>2017_return_fund</th>\n",
              "      <th>category_ratio_net_annual_expense</th>\n",
              "      <th>category_return_2015</th>\n",
              "      <th>1_month_fund_return</th>\n",
              "      <th>bond_percentage_of_porfolio</th>\n",
              "      <th>portfolio_preferred</th>\n",
              "      <th>2010_return_category</th>\n",
              "      <th>2013_category_return</th>\n",
              "      <th>fund_ratio_net_annual_expense</th>\n",
              "      <th>bb_rating</th>\n",
              "      <th>us_govt_bond_rating</th>\n",
              "      <th>below_b_rating</th>\n",
              "      <th>others_rating</th>\n",
              "      <th>maturity_bond</th>\n",
              "      <th>b_rating</th>\n",
              "      <th>a_rating</th>\n",
              "      <th>aaa_rating</th>\n",
              "      <th>aa_rating</th>\n",
              "      <th>bbb_rating</th>\n",
              "      <th>duration_bond</th>\n",
              "    </tr>\n",
              "  </thead>\n",
              "  <tbody>\n",
              "    <tr>\n",
              "      <th>11408</th>\n",
              "      <td>0</td>\n",
              "      <td>1</td>\n",
              "      <td>0</td>\n",
              "      <td>0</td>\n",
              "      <td>3.193200e+08</td>\n",
              "      <td>0.00</td>\n",
              "      <td>2</td>\n",
              "      <td>1</td>\n",
              "      <td>0</td>\n",
              "      <td>0</td>\n",
              "      <td>0</td>\n",
              "      <td>10.13</td>\n",
              "      <td>0.91</td>\n",
              "      <td>0.44</td>\n",
              "      <td>-1.41</td>\n",
              "      <td>83.59</td>\n",
              "      <td>14.80</td>\n",
              "      <td>0.01</td>\n",
              "      <td>0.86</td>\n",
              "      <td>6.55</td>\n",
              "      <td>0.01</td>\n",
              "      <td>0.10</td>\n",
              "      <td>6.08</td>\n",
              "      <td>0.02</td>\n",
              "      <td>0.01</td>\n",
              "      <td>0.15</td>\n",
              "      <td>0.58</td>\n",
              "      <td>9.97</td>\n",
              "      <td>0.83</td>\n",
              "      <td>0.24</td>\n",
              "      <td>0.76</td>\n",
              "      <td>74.95</td>\n",
              "      <td>12.18</td>\n",
              "      <td>0.0</td>\n",
              "      <td>0.88</td>\n",
              "      <td>2.51</td>\n",
              "      <td>0.31</td>\n",
              "      <td>0.00</td>\n",
              "      <td>0.03</td>\n",
              "      <td>3.01</td>\n",
              "      <td>...</td>\n",
              "      <td>13.54</td>\n",
              "      <td>10.13</td>\n",
              "      <td>13.00</td>\n",
              "      <td>2.74</td>\n",
              "      <td>30.87</td>\n",
              "      <td>-2.82</td>\n",
              "      <td>18.34</td>\n",
              "      <td>4.04</td>\n",
              "      <td>0.0</td>\n",
              "      <td>13.00</td>\n",
              "      <td>0.19</td>\n",
              "      <td>-6.39</td>\n",
              "      <td>15367.55</td>\n",
              "      <td>96.75</td>\n",
              "      <td>-2.14</td>\n",
              "      <td>1.65</td>\n",
              "      <td>-17.56</td>\n",
              "      <td>3.44</td>\n",
              "      <td>17.65</td>\n",
              "      <td>-12.81</td>\n",
              "      <td>30.68</td>\n",
              "      <td>1.13</td>\n",
              "      <td>0.95</td>\n",
              "      <td>1.92</td>\n",
              "      <td>0.0</td>\n",
              "      <td>0.0</td>\n",
              "      <td>14.78</td>\n",
              "      <td>18.58</td>\n",
              "      <td>2.27</td>\n",
              "      <td>0.0</td>\n",
              "      <td>0.0</td>\n",
              "      <td>0.0</td>\n",
              "      <td>0.0</td>\n",
              "      <td>7.758483</td>\n",
              "      <td>0.0</td>\n",
              "      <td>0.0</td>\n",
              "      <td>0.0</td>\n",
              "      <td>0.0</td>\n",
              "      <td>0.0</td>\n",
              "      <td>4.628102</td>\n",
              "    </tr>\n",
              "    <tr>\n",
              "      <th>3616</th>\n",
              "      <td>1</td>\n",
              "      <td>0</td>\n",
              "      <td>0</td>\n",
              "      <td>0</td>\n",
              "      <td>2.130000e+09</td>\n",
              "      <td>0.91</td>\n",
              "      <td>3</td>\n",
              "      <td>0</td>\n",
              "      <td>0</td>\n",
              "      <td>1</td>\n",
              "      <td>0</td>\n",
              "      <td>11.48</td>\n",
              "      <td>0.76</td>\n",
              "      <td>0.95</td>\n",
              "      <td>-1.61</td>\n",
              "      <td>75.78</td>\n",
              "      <td>17.27</td>\n",
              "      <td>0.01</td>\n",
              "      <td>1.18</td>\n",
              "      <td>13.58</td>\n",
              "      <td>0.01</td>\n",
              "      <td>0.12</td>\n",
              "      <td>16.54</td>\n",
              "      <td>-0.03</td>\n",
              "      <td>0.01</td>\n",
              "      <td>0.17</td>\n",
              "      <td>1.41</td>\n",
              "      <td>14.67</td>\n",
              "      <td>0.65</td>\n",
              "      <td>0.51</td>\n",
              "      <td>-3.48</td>\n",
              "      <td>64.10</td>\n",
              "      <td>15.85</td>\n",
              "      <td>0.0</td>\n",
              "      <td>1.14</td>\n",
              "      <td>6.30</td>\n",
              "      <td>0.74</td>\n",
              "      <td>0.01</td>\n",
              "      <td>0.04</td>\n",
              "      <td>7.95</td>\n",
              "      <td>...</td>\n",
              "      <td>40.76</td>\n",
              "      <td>11.48</td>\n",
              "      <td>13.34</td>\n",
              "      <td>1.72</td>\n",
              "      <td>12.28</td>\n",
              "      <td>1.12</td>\n",
              "      <td>15.83</td>\n",
              "      <td>-2.24</td>\n",
              "      <td>0.0</td>\n",
              "      <td>13.34</td>\n",
              "      <td>0.00</td>\n",
              "      <td>25.84</td>\n",
              "      <td>1599.55</td>\n",
              "      <td>99.84</td>\n",
              "      <td>20.78</td>\n",
              "      <td>0.92</td>\n",
              "      <td>0.82</td>\n",
              "      <td>26.05</td>\n",
              "      <td>16.02</td>\n",
              "      <td>-8.88</td>\n",
              "      <td>12.41</td>\n",
              "      <td>1.15</td>\n",
              "      <td>-5.38</td>\n",
              "      <td>-3.40</td>\n",
              "      <td>0.0</td>\n",
              "      <td>0.0</td>\n",
              "      <td>25.61</td>\n",
              "      <td>37.39</td>\n",
              "      <td>0.50</td>\n",
              "      <td>0.0</td>\n",
              "      <td>0.0</td>\n",
              "      <td>0.0</td>\n",
              "      <td>0.0</td>\n",
              "      <td>7.758483</td>\n",
              "      <td>0.0</td>\n",
              "      <td>0.0</td>\n",
              "      <td>0.0</td>\n",
              "      <td>0.0</td>\n",
              "      <td>0.0</td>\n",
              "      <td>4.628102</td>\n",
              "    </tr>\n",
              "  </tbody>\n",
              "</table>\n",
              "<p>2 rows × 123 columns</p>\n",
              "</div>"
            ],
            "text/plain": [
              "       investment_class_Blend  ...  duration_bond\n",
              "11408                       0  ...       4.628102\n",
              "3616                        1  ...       4.628102\n",
              "\n",
              "[2 rows x 123 columns]"
            ]
          },
          "metadata": {
            "tags": []
          },
          "execution_count": 82
        }
      ]
    },
    {
      "cell_type": "code",
      "metadata": {
        "id": "OPeCyaBR1OgT",
        "colab_type": "code",
        "outputId": "3dd8410a-b902-4837-efe6-23e665a57a4e",
        "colab": {
          "base_uri": "https://localhost:8080/",
          "height": 522
        }
      },
      "source": [
        "model1.fit(x_train,y_train2,batch_size=300,epochs=12,verbose=1,validation_data=(x_test,y_test2))"
      ],
      "execution_count": 0,
      "outputs": [
        {
          "output_type": "error",
          "ename": "ValueError",
          "evalue": "ignored",
          "traceback": [
            "\u001b[0;31m---------------------------------------------------------------------------\u001b[0m",
            "\u001b[0;31mValueError\u001b[0m                                Traceback (most recent call last)",
            "\u001b[0;32m<ipython-input-81-ff2fdaee71ce>\u001b[0m in \u001b[0;36m<module>\u001b[0;34m()\u001b[0m\n\u001b[0;32m----> 1\u001b[0;31m \u001b[0mmodel1\u001b[0m\u001b[0;34m.\u001b[0m\u001b[0mfit\u001b[0m\u001b[0;34m(\u001b[0m\u001b[0mx_train\u001b[0m\u001b[0;34m,\u001b[0m\u001b[0my_train2\u001b[0m\u001b[0;34m,\u001b[0m\u001b[0mbatch_size\u001b[0m\u001b[0;34m=\u001b[0m\u001b[0;36m300\u001b[0m\u001b[0;34m,\u001b[0m\u001b[0mepochs\u001b[0m\u001b[0;34m=\u001b[0m\u001b[0;36m12\u001b[0m\u001b[0;34m,\u001b[0m\u001b[0mverbose\u001b[0m\u001b[0;34m=\u001b[0m\u001b[0;36m1\u001b[0m\u001b[0;34m,\u001b[0m\u001b[0mvalidation_data\u001b[0m\u001b[0;34m=\u001b[0m\u001b[0;34m(\u001b[0m\u001b[0mx_test\u001b[0m\u001b[0;34m,\u001b[0m\u001b[0my_test2\u001b[0m\u001b[0;34m)\u001b[0m\u001b[0;34m)\u001b[0m\u001b[0;34m\u001b[0m\u001b[0;34m\u001b[0m\u001b[0m\n\u001b[0m",
            "\u001b[0;32m/usr/local/lib/python3.6/dist-packages/keras/engine/training.py\u001b[0m in \u001b[0;36mfit\u001b[0;34m(self, x, y, batch_size, epochs, verbose, callbacks, validation_split, validation_data, shuffle, class_weight, sample_weight, initial_epoch, steps_per_epoch, validation_steps, validation_freq, max_queue_size, workers, use_multiprocessing, **kwargs)\u001b[0m\n\u001b[1;32m   1152\u001b[0m             \u001b[0msample_weight\u001b[0m\u001b[0;34m=\u001b[0m\u001b[0msample_weight\u001b[0m\u001b[0;34m,\u001b[0m\u001b[0;34m\u001b[0m\u001b[0;34m\u001b[0m\u001b[0m\n\u001b[1;32m   1153\u001b[0m             \u001b[0mclass_weight\u001b[0m\u001b[0;34m=\u001b[0m\u001b[0mclass_weight\u001b[0m\u001b[0;34m,\u001b[0m\u001b[0;34m\u001b[0m\u001b[0;34m\u001b[0m\u001b[0m\n\u001b[0;32m-> 1154\u001b[0;31m             batch_size=batch_size)\n\u001b[0m\u001b[1;32m   1155\u001b[0m \u001b[0;34m\u001b[0m\u001b[0m\n\u001b[1;32m   1156\u001b[0m         \u001b[0;31m# Prepare validation data.\u001b[0m\u001b[0;34m\u001b[0m\u001b[0;34m\u001b[0m\u001b[0;34m\u001b[0m\u001b[0m\n",
            "\u001b[0;32m/usr/local/lib/python3.6/dist-packages/keras/engine/training.py\u001b[0m in \u001b[0;36m_standardize_user_data\u001b[0;34m(self, x, y, sample_weight, class_weight, check_array_lengths, batch_size)\u001b[0m\n\u001b[1;32m    495\u001b[0m                                      \u001b[0;34m'either a single '\u001b[0m\u001b[0;34m\u001b[0m\u001b[0;34m\u001b[0m\u001b[0m\n\u001b[1;32m    496\u001b[0m                                      \u001b[0;34m'array or a list of arrays. '\u001b[0m\u001b[0;34m\u001b[0m\u001b[0;34m\u001b[0m\u001b[0m\n\u001b[0;32m--> 497\u001b[0;31m                                      'You passed: x=' + str(x))\n\u001b[0m\u001b[1;32m    498\u001b[0m                 \u001b[0mall_inputs\u001b[0m\u001b[0;34m.\u001b[0m\u001b[0mappend\u001b[0m\u001b[0;34m(\u001b[0m\u001b[0mx\u001b[0m\u001b[0;34m)\u001b[0m\u001b[0;34m\u001b[0m\u001b[0;34m\u001b[0m\u001b[0m\n\u001b[1;32m    499\u001b[0m \u001b[0;34m\u001b[0m\u001b[0m\n",
            "\u001b[0;31mValueError\u001b[0m: Please provide as model inputs either a single array or a list of arrays. You passed: x=       investment_class_Blend  ...  duration_bond\n11408                       0  ...       4.628102\n3616                        1  ...       4.628102\n9747                        0  ...       4.628102\n6915                        1  ...      11.800000\n4888                        0  ...       4.628102\n...                       ...  ...            ...\n10955                       0  ...       4.628102\n17289                       1  ...       4.628102\n5192                        1  ...       4.980000\n12172                       0  ...       5.790000\n235                         0  ...       4.628102\n\n[14000 rows x 123 columns]"
          ]
        }
      ]
    },
    {
      "cell_type": "code",
      "metadata": {
        "id": "MxfSzieOqHZr",
        "colab_type": "code",
        "colab": {}
      },
      "source": [
        "from sklearn.decomposition import PCA\n",
        "\n",
        "pca = PCA()\n",
        "x_trainnew2 = pca.fit_transform(x_train2)\n",
        "x_testnew2 = pca.transform(x_test2)"
      ],
      "execution_count": 0,
      "outputs": []
    },
    {
      "cell_type": "code",
      "metadata": {
        "id": "AH1cwvqhqHZt",
        "colab_type": "code",
        "outputId": "8b8c8289-6da9-4d4b-d0c8-40d2b844a6ca",
        "colab": {}
      },
      "source": [
        "clf.fit(x_trainnew2, y_train)\n",
        "y_predict = clf.predict(x_testnew2)\n",
        "#model_score = clf.score(x_test_scaled, y_test)\n",
        "print(metrics.confusion_matrix(y_test, y_predict))\n",
        "print(metrics.accuracy_score(y_test, y_predict))"
      ],
      "execution_count": 0,
      "outputs": [
        {
          "output_type": "stream",
          "text": [
            "[[ 379    0    3    4    1    1]\n",
            " [   0  190  186   37    0    0]\n",
            " [   5   32  776  431   14    0]\n",
            " [   1    1  152 1646  239    4]\n",
            " [   2    0   10  488  864   64]\n",
            " [   0    0    4   53  174  239]]\n",
            "0.6823333333333333\n"
          ],
          "name": "stdout"
        }
      ]
    },
    {
      "cell_type": "code",
      "metadata": {
        "id": "xRVxGn2DqHZw",
        "colab_type": "code",
        "outputId": "87ce80c6-d745-4500-b533-2fa25fe94ba0",
        "colab": {}
      },
      "source": [
        "clf.fit(scaledx_train2, y_train)\n",
        "y_predict = clf.predict(scaledx_test2)\n",
        "#model_score = clf.score(x_test_scaled, y_test)\n",
        "print(metrics.confusion_matrix(y_test, y_predict))\n",
        "print(metrics.accuracy_score(y_test, y_predict))"
      ],
      "execution_count": 0,
      "outputs": [
        {
          "output_type": "stream",
          "text": [
            "[[ 381    1    2    2    1    1]\n",
            " [   0  255  150    8    0    0]\n",
            " [   0   38  978  232   10    0]\n",
            " [   1    3  135 1715  188    1]\n",
            " [   2    0    8  277 1073   68]\n",
            " [   0    0    1   10  122  337]]\n",
            "0.7898333333333334\n"
          ],
          "name": "stdout"
        }
      ]
    },
    {
      "cell_type": "code",
      "metadata": {
        "id": "GEO5374qqHZy",
        "colab_type": "code",
        "outputId": "1d93ecb9-229a-403d-8739-bb383375b085",
        "colab": {}
      },
      "source": [
        "x_train2['fund_size_Null'].head(2)"
      ],
      "execution_count": 0,
      "outputs": [
        {
          "output_type": "execute_result",
          "data": {
            "text/plain": [
              "11408    0\n",
              "3616     0\n",
              "Name: fund_size_Null, dtype: int64"
            ]
          },
          "metadata": {
            "tags": []
          },
          "execution_count": 112
        }
      ]
    },
    {
      "cell_type": "code",
      "metadata": {
        "id": "U7BEQN0ZqHZ0",
        "colab_type": "code",
        "colab": {}
      },
      "source": [
        "from sklearn.tree import DecisionTreeClassifier"
      ],
      "execution_count": 0,
      "outputs": []
    },
    {
      "cell_type": "code",
      "metadata": {
        "id": "IxOMvaiFqHZ2",
        "colab_type": "code",
        "outputId": "e76fad8d-f1ca-43c8-902e-e72efec7c18e",
        "colab": {}
      },
      "source": [
        "dt_model = DecisionTreeClassifier(criterion = 'entropy') #max_depth=None,min_samples_leaf=1  \n",
        "dt_model.fit(scaledx_train2,y_train)"
      ],
      "execution_count": 0,
      "outputs": [
        {
          "output_type": "execute_result",
          "data": {
            "text/plain": [
              "DecisionTreeClassifier(class_weight=None, criterion='entropy', max_depth=None,\n",
              "                       max_features=None, max_leaf_nodes=None,\n",
              "                       min_impurity_decrease=0.0, min_impurity_split=None,\n",
              "                       min_samples_leaf=1, min_samples_split=2,\n",
              "                       min_weight_fraction_leaf=0.0, presort=False,\n",
              "                       random_state=None, splitter='best')"
            ]
          },
          "metadata": {
            "tags": []
          },
          "execution_count": 103
        }
      ]
    },
    {
      "cell_type": "code",
      "metadata": {
        "id": "J9Wmlge3qHZ5",
        "colab_type": "code",
        "outputId": "4e98f287-c46d-4301-a301-f879e27865e0",
        "colab": {}
      },
      "source": [
        "#dt_model.score(x_train_scaled , y_train) \n",
        "dt_model.score(scaledx_test2 , y_test)      # performance on test data, y_train)"
      ],
      "execution_count": 0,
      "outputs": [
        {
          "output_type": "execute_result",
          "data": {
            "text/plain": [
              "0.6943333333333334"
            ]
          },
          "metadata": {
            "tags": []
          },
          "execution_count": 105
        }
      ]
    },
    {
      "cell_type": "code",
      "metadata": {
        "id": "zo1nPmA1qHZ7",
        "colab_type": "code",
        "colab": {}
      },
      "source": [
        "from sklearn.neighbors import KNeighborsClassifier\n",
        "from sklearn.preprocessing import StandardScaler"
      ],
      "execution_count": 0,
      "outputs": []
    },
    {
      "cell_type": "code",
      "metadata": {
        "id": "LoaMbqbRqHZ8",
        "colab_type": "code",
        "colab": {}
      },
      "source": [
        "sc=StandardScaler()\n",
        "sc.fit(x_train2)\n",
        "scaledx_train2 = sc.transform(x_train2)\n",
        "scaledx_test2 = sc.transform(x_test2)"
      ],
      "execution_count": 0,
      "outputs": []
    },
    {
      "cell_type": "code",
      "metadata": {
        "id": "P57AoMYeqHZ_",
        "colab_type": "code",
        "outputId": "a33347d7-1e24-4206-9b9d-2db83f259a8a",
        "colab": {
          "base_uri": "https://localhost:8080/",
          "height": 85
        }
      },
      "source": [
        "#k=3\n",
        "knn=KNeighborsClassifier(n_neighbors=3)\n",
        "knn.fit(x_train2,y_train)\n",
        "print(\"Testing Accuracy\")\n",
        "print(knn.score(x_test2,y_test))\n",
        "print(\"Training Accuracy\")\n",
        "print(knn.score(x_train2,y_train))\n",
        "#predicted = knn.predict(scaledx_test2)"
      ],
      "execution_count": 0,
      "outputs": [
        {
          "output_type": "stream",
          "text": [
            "Testing Accuracy\n",
            "0.4838877338877339\n",
            "Training Accuracy\n",
            "0.7282651072124756\n"
          ],
          "name": "stdout"
        }
      ]
    },
    {
      "cell_type": "code",
      "metadata": {
        "id": "Gsr6kP-XqHaB",
        "colab_type": "code",
        "outputId": "882139a8-5b68-45aa-d785-3847d6315f03",
        "colab": {}
      },
      "source": [
        "#k=3\n",
        "knn=KNeighborsClassifier(n_neighbors=3)\n",
        "knn.fit(x_train2,y_train)\n",
        "print(\"Testing Accuracy\")\n",
        "print(knn.score(x_test2,y_test))\n",
        "print(\"Training Accuracy\")\n",
        "print(knn.score(x_train2,y_train))\n",
        "predicted = knn.predict(x_test2)"
      ],
      "execution_count": 0,
      "outputs": [
        {
          "output_type": "stream",
          "text": [
            "Testing Accuracy\n",
            "0.4696666666666667\n",
            "Training Accuracy\n",
            "0.7407857142857143\n"
          ],
          "name": "stdout"
        }
      ]
    }
  ]
}